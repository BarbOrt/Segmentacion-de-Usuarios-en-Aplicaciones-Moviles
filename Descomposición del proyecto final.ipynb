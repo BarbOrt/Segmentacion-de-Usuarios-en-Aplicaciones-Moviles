{
 "cells": [
  {
   "cell_type": "markdown",
   "id": "ae4c8b59",
   "metadata": {},
   "source": [
    "# Descomposición del Proyecto\n",
    "\n",
    "## Objetivo del Proyecto\n",
    "\n",
    "El objetivo de este proyecto es segmentar a los usuarios y usuarias de la aplicación móvil Trash to Treasure en función de su comportamiento y analizar diferentes métricas del producto, como la tasa de retención, tiempo dedicado a la aplicación, frecuencia de eventos y conversión en el evento `contacts_show`.\n",
    "\n",
    "## Pasos del Proyecto\n",
    "\n",
    "1. **Importación de Librerías y Carga de Datos**\n",
    "    - Importar las librerías necesarias.\n",
    "    - Cargar los datasets `mobile_dataset_us.csv` y `mobile_sources_us.csv`.\n",
    "\n",
    "2. **Preprocesamiento de Datos**\n",
    "    - Revisar y manejar valores ausentes.\n",
    "    - Convertir tipos de datos si es necesario.\n",
    "    - Unificar el formato de los datos temporales.\n",
    "    - Fusionar datasets en función del `user.id`.\n",
    "\n",
    "3. **Análisis Exploratorio de Datos (EDA)**\n",
    "    - Visualizar la distribución de eventos por tipo de evento.\n",
    "    - Analizar la distribución temporal de los eventos.\n",
    "    - Calcular y visualizar el número de usuarios por fuente de descarga.\n",
    "    - Analizar las frecuencias de los eventos por usuario.\n",
    "\n",
    "4. **Segmentación de Usuarios**\n",
    "    - Definir criterios de segmentación basados en los eventos completados.\n",
    "    - Implementar técnicas de segmentación (e.g., clustering).\n",
    "    - Describir los segmentos resultantes en términos de métricas del producto.\n",
    "\n",
    "5. **Prueba de Hipótesis**\n",
    "    - Formular y probar una hipótesis sobre la diferencia en la conversión en vistas de información de contacto entre quienes descargaron la aplicación de `bing` y quienes la descargaron de `google`.\n",
    "    - Formular una hipótesis estadística adicional sobre los datos del dataset y probarla.\n",
    "\n",
    "6. **Análisis de Métricas de Negocio**\n",
    "    - Calcular y analizar la tasa de retención de usuarios.\n",
    "    - Calcular el tiempo promedio dedicado a la aplicación.\n",
    "    - Evaluar la frecuencia de ocurrencia de eventos.\n",
    "    - Analizar la conversión en el evento `contacts_show`.\n",
    "\n",
    "7. **Preparar una Presentación**\n",
    "    - Crear visualizaciones claras y concisas de los hallazgos.\n",
    "    - Elaborar una narrativa que explique los resultados y su relevancia.\n",
    "    - Preparar un documento en PDF con la presentación final.\n",
    "\n",
    "8. **Tareas Adicionales (Opcional)**\n",
    "    - Construir un cuadro de mando en Tableau para visualizar las métricas y los segmentos de usuarios.\n"
   ]
  },
  {
   "cell_type": "code",
   "execution_count": null,
   "id": "0de4f218",
   "metadata": {},
   "outputs": [],
   "source": []
  }
 ],
 "metadata": {
  "kernelspec": {
   "display_name": "Python 3 (ipykernel)",
   "language": "python",
   "name": "python3"
  },
  "language_info": {
   "codemirror_mode": {
    "name": "ipython",
    "version": 3
   },
   "file_extension": ".py",
   "mimetype": "text/x-python",
   "name": "python",
   "nbconvert_exporter": "python",
   "pygments_lexer": "ipython3",
   "version": "3.9.19"
  },
  "toc": {
   "base_numbering": 1,
   "nav_menu": {},
   "number_sections": true,
   "sideBar": true,
   "skip_h1_title": true,
   "title_cell": "Table of Contents",
   "title_sidebar": "Contents",
   "toc_cell": false,
   "toc_position": {},
   "toc_section_display": true,
   "toc_window_display": false
  }
 },
 "nbformat": 4,
 "nbformat_minor": 5
}
