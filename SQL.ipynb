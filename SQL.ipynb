{
 "cells": [
  {
   "cell_type": "markdown",
   "metadata": {},
   "source": [
    "# Proyecto SQL\n",
    "\n",
    "## Introducción\n",
    "El coronavirus tomó al mundo entero por sorpresa, cambiando la rutina diaria de todos y todas. Los habitantes de las ciudades ya no pasaban su tiempo libre fuera, yendo a cafés y centros comerciales; sino que más gente se quedaba en casa, leyendo libros. Eso atrajo la atención de las startups (empresas emergentes) que se apresuraron a desarrollar nuevas aplicaciones para los amantes de los libros.\n",
    "\n",
    "Nos han dado una base de datos de uno de los servicios que compiten en este mercado. Contiene datos sobre libros, editoriales, autores y calificaciones de clientes y reseñas de libros. Esta información se utilizará para generar una propuesta de valor para un nuevo producto.\n",
    "\n",
    "### Descripción de los datos\n",
    "\n",
    "#### books\n",
    "Contiene datos sobre libros:\n",
    "- `book_id` — identificación del libro\n",
    "- `author_id` — identificación del autor o autora\n",
    "- `title` — título\n",
    "- `num_pages` — número de páginas\n",
    "- `publication_date` — fecha de la publicación\n",
    "- `publisher_id` — identificación de la editorial\n",
    "\n",
    "#### authors\n",
    "Contiene datos sobre autores:\n",
    "- `author_id` — identificación del autor o autora\n",
    "- `author` — el autor o la autora\n",
    "\n",
    "#### publishers\n",
    "Contiene datos sobre editoriales:\n",
    "- `publisher_id` — identificación de la editorial\n",
    "- `publisher` — la editorial\n",
    "\n",
    "#### ratings\n",
    "Contiene datos sobre las calificaciones de usuarios:\n",
    "- `rating_id` — identificación de la calificación\n",
    "- `book_id` — identificación del libro\n",
    "- `username` — el nombre del usuario que revisó el libro\n",
    "- `rating` — calificación\n",
    "\n",
    "#### reviews\n",
    "Contiene datos sobre las reseñas de los y las clientes:\n",
    "- `review_id` — identificación de la reseña\n",
    "- `book_id` — identificación del libro\n",
    "- `username` — el nombre del usuario que revisó el libro\n",
    "- `text` — el texto de la reseña\n",
    "\n",
    "### Objetivos del estudio\n",
    "1. Encontrar el número de libros publicados después del 1 de enero de 2000.\n",
    "2. Encontrar el número de reseñas de usuarios y la calificación promedio para cada libro.\n",
    "3. Identificar la editorial que ha publicado el mayor número de libros con más de 50 páginas.\n",
    "4. Identificar al autor que tiene la más alta calificación promedio del libro (considerando solo los libros con al menos 50 calificaciones).\n",
    "5. Encontrar el número promedio de reseñas de texto entre los usuarios que calificaron más de 50 libros.\n"
   ]
  },
  {
   "cell_type": "markdown",
   "metadata": {},
   "source": [
    "## Conexión a la base de datos"
   ]
  },
  {
   "cell_type": "markdown",
   "metadata": {},
   "source": [
    "### Importación de librerias"
   ]
  },
  {
   "cell_type": "code",
   "execution_count": 11,
   "metadata": {},
   "outputs": [],
   "source": [
    "# importación de librerías\n",
    "import pandas as pd\n",
    "from sqlalchemy import create_engine\n",
    "from IPython.display import display"
   ]
  },
  {
   "cell_type": "markdown",
   "metadata": {},
   "source": [
    "### Configuración de la base de datos"
   ]
  },
  {
   "cell_type": "code",
   "execution_count": 2,
   "metadata": {},
   "outputs": [],
   "source": [
    "# Configuración de la base de datos\n",
    "db_config = {\n",
    "    'user': 'practicum_student',         # Nombre de usuario\n",
    "    'pwd': 's65BlTKV3faNIGhmvJVzOqhs',   # Contraseña\n",
    "    'host': 'rc1b-wcoijxj3yxfsf3fs.mdb.yandexcloud.net', # Servidor de la base de datos\n",
    "    'port': 6432,                        # Puerto de conexión\n",
    "    'db': 'data-analyst-final-project-db' # Nombre de la base de datos\n",
    "}\n",
    "\n",
    "# Cadena de conexión a la base de datos\n",
    "connection_string = f\"postgresql://{db_config['user']}:{db_config['pwd']}@{db_config['host']}:{db_config['port']}/{db_config['db']}\"\n",
    "\n",
    "# Creación del motor de conexión\n",
    "engine = create_engine(connection_string, connect_args={'sslmode': 'require'})\n",
    "\n"
   ]
  },
  {
   "cell_type": "markdown",
   "metadata": {},
   "source": [
    "## Estudio de datos"
   ]
  },
  {
   "cell_type": "markdown",
   "metadata": {},
   "source": [
    "### Análisis de tablas"
   ]
  },
  {
   "cell_type": "code",
   "execution_count": 3,
   "metadata": {},
   "outputs": [
    {
     "name": "stdout",
     "output_type": "stream",
     "text": [
      "Tabla: books\n"
     ]
    },
    {
     "data": {
      "text/html": [
       "<div>\n",
       "<style scoped>\n",
       "    .dataframe tbody tr th:only-of-type {\n",
       "        vertical-align: middle;\n",
       "    }\n",
       "\n",
       "    .dataframe tbody tr th {\n",
       "        vertical-align: top;\n",
       "    }\n",
       "\n",
       "    .dataframe thead th {\n",
       "        text-align: right;\n",
       "    }\n",
       "</style>\n",
       "<table border=\"1\" class=\"dataframe\">\n",
       "  <thead>\n",
       "    <tr style=\"text-align: right;\">\n",
       "      <th></th>\n",
       "      <th>book_id</th>\n",
       "      <th>author_id</th>\n",
       "      <th>title</th>\n",
       "      <th>num_pages</th>\n",
       "      <th>publication_date</th>\n",
       "      <th>publisher_id</th>\n",
       "    </tr>\n",
       "  </thead>\n",
       "  <tbody>\n",
       "    <tr>\n",
       "      <th>0</th>\n",
       "      <td>1</td>\n",
       "      <td>546</td>\n",
       "      <td>'Salem's Lot</td>\n",
       "      <td>594</td>\n",
       "      <td>2005-11-01</td>\n",
       "      <td>93</td>\n",
       "    </tr>\n",
       "    <tr>\n",
       "      <th>1</th>\n",
       "      <td>2</td>\n",
       "      <td>465</td>\n",
       "      <td>1 000 Places to See Before You Die</td>\n",
       "      <td>992</td>\n",
       "      <td>2003-05-22</td>\n",
       "      <td>336</td>\n",
       "    </tr>\n",
       "    <tr>\n",
       "      <th>2</th>\n",
       "      <td>3</td>\n",
       "      <td>407</td>\n",
       "      <td>13 Little Blue Envelopes (Little Blue Envelope...</td>\n",
       "      <td>322</td>\n",
       "      <td>2010-12-21</td>\n",
       "      <td>135</td>\n",
       "    </tr>\n",
       "    <tr>\n",
       "      <th>3</th>\n",
       "      <td>4</td>\n",
       "      <td>82</td>\n",
       "      <td>1491: New Revelations of the Americas Before C...</td>\n",
       "      <td>541</td>\n",
       "      <td>2006-10-10</td>\n",
       "      <td>309</td>\n",
       "    </tr>\n",
       "    <tr>\n",
       "      <th>4</th>\n",
       "      <td>5</td>\n",
       "      <td>125</td>\n",
       "      <td>1776</td>\n",
       "      <td>386</td>\n",
       "      <td>2006-07-04</td>\n",
       "      <td>268</td>\n",
       "    </tr>\n",
       "  </tbody>\n",
       "</table>\n",
       "</div>"
      ],
      "text/plain": [
       "   book_id  author_id                                              title  \\\n",
       "0        1        546                                       'Salem's Lot   \n",
       "1        2        465                 1 000 Places to See Before You Die   \n",
       "2        3        407  13 Little Blue Envelopes (Little Blue Envelope...   \n",
       "3        4         82  1491: New Revelations of the Americas Before C...   \n",
       "4        5        125                                               1776   \n",
       "\n",
       "   num_pages publication_date  publisher_id  \n",
       "0        594       2005-11-01            93  \n",
       "1        992       2003-05-22           336  \n",
       "2        322       2010-12-21           135  \n",
       "3        541       2006-10-10           309  \n",
       "4        386       2006-07-04           268  "
      ]
     },
     "metadata": {},
     "output_type": "display_data"
    },
    {
     "name": "stdout",
     "output_type": "stream",
     "text": [
      "No se encontraron valores duplicados en la tabla 'books'.\n",
      "No se encontraron valores faltantes en la tabla 'books'.\n",
      "\n",
      "--------------------------------------------------\n",
      "\n",
      "Tabla: authors\n"
     ]
    },
    {
     "data": {
      "text/html": [
       "<div>\n",
       "<style scoped>\n",
       "    .dataframe tbody tr th:only-of-type {\n",
       "        vertical-align: middle;\n",
       "    }\n",
       "\n",
       "    .dataframe tbody tr th {\n",
       "        vertical-align: top;\n",
       "    }\n",
       "\n",
       "    .dataframe thead th {\n",
       "        text-align: right;\n",
       "    }\n",
       "</style>\n",
       "<table border=\"1\" class=\"dataframe\">\n",
       "  <thead>\n",
       "    <tr style=\"text-align: right;\">\n",
       "      <th></th>\n",
       "      <th>author_id</th>\n",
       "      <th>author</th>\n",
       "    </tr>\n",
       "  </thead>\n",
       "  <tbody>\n",
       "    <tr>\n",
       "      <th>0</th>\n",
       "      <td>1</td>\n",
       "      <td>A.S. Byatt</td>\n",
       "    </tr>\n",
       "    <tr>\n",
       "      <th>1</th>\n",
       "      <td>2</td>\n",
       "      <td>Aesop/Laura Harris/Laura Gibbs</td>\n",
       "    </tr>\n",
       "    <tr>\n",
       "      <th>2</th>\n",
       "      <td>3</td>\n",
       "      <td>Agatha Christie</td>\n",
       "    </tr>\n",
       "    <tr>\n",
       "      <th>3</th>\n",
       "      <td>4</td>\n",
       "      <td>Alan Brennert</td>\n",
       "    </tr>\n",
       "    <tr>\n",
       "      <th>4</th>\n",
       "      <td>5</td>\n",
       "      <td>Alan Moore/David   Lloyd</td>\n",
       "    </tr>\n",
       "  </tbody>\n",
       "</table>\n",
       "</div>"
      ],
      "text/plain": [
       "   author_id                          author\n",
       "0          1                      A.S. Byatt\n",
       "1          2  Aesop/Laura Harris/Laura Gibbs\n",
       "2          3                 Agatha Christie\n",
       "3          4                   Alan Brennert\n",
       "4          5        Alan Moore/David   Lloyd"
      ]
     },
     "metadata": {},
     "output_type": "display_data"
    },
    {
     "name": "stdout",
     "output_type": "stream",
     "text": [
      "No se encontraron valores duplicados en la tabla 'authors'.\n",
      "No se encontraron valores faltantes en la tabla 'authors'.\n",
      "\n",
      "--------------------------------------------------\n",
      "\n",
      "Tabla: publishers\n"
     ]
    },
    {
     "data": {
      "text/html": [
       "<div>\n",
       "<style scoped>\n",
       "    .dataframe tbody tr th:only-of-type {\n",
       "        vertical-align: middle;\n",
       "    }\n",
       "\n",
       "    .dataframe tbody tr th {\n",
       "        vertical-align: top;\n",
       "    }\n",
       "\n",
       "    .dataframe thead th {\n",
       "        text-align: right;\n",
       "    }\n",
       "</style>\n",
       "<table border=\"1\" class=\"dataframe\">\n",
       "  <thead>\n",
       "    <tr style=\"text-align: right;\">\n",
       "      <th></th>\n",
       "      <th>publisher_id</th>\n",
       "      <th>publisher</th>\n",
       "    </tr>\n",
       "  </thead>\n",
       "  <tbody>\n",
       "    <tr>\n",
       "      <th>0</th>\n",
       "      <td>1</td>\n",
       "      <td>Ace</td>\n",
       "    </tr>\n",
       "    <tr>\n",
       "      <th>1</th>\n",
       "      <td>2</td>\n",
       "      <td>Ace Book</td>\n",
       "    </tr>\n",
       "    <tr>\n",
       "      <th>2</th>\n",
       "      <td>3</td>\n",
       "      <td>Ace Books</td>\n",
       "    </tr>\n",
       "    <tr>\n",
       "      <th>3</th>\n",
       "      <td>4</td>\n",
       "      <td>Ace Hardcover</td>\n",
       "    </tr>\n",
       "    <tr>\n",
       "      <th>4</th>\n",
       "      <td>5</td>\n",
       "      <td>Addison Wesley Publishing Company</td>\n",
       "    </tr>\n",
       "  </tbody>\n",
       "</table>\n",
       "</div>"
      ],
      "text/plain": [
       "   publisher_id                          publisher\n",
       "0             1                                Ace\n",
       "1             2                           Ace Book\n",
       "2             3                          Ace Books\n",
       "3             4                      Ace Hardcover\n",
       "4             5  Addison Wesley Publishing Company"
      ]
     },
     "metadata": {},
     "output_type": "display_data"
    },
    {
     "name": "stdout",
     "output_type": "stream",
     "text": [
      "No se encontraron valores duplicados en la tabla 'publishers'.\n",
      "No se encontraron valores faltantes en la tabla 'publishers'.\n",
      "\n",
      "--------------------------------------------------\n",
      "\n",
      "Tabla: ratings\n"
     ]
    },
    {
     "data": {
      "text/html": [
       "<div>\n",
       "<style scoped>\n",
       "    .dataframe tbody tr th:only-of-type {\n",
       "        vertical-align: middle;\n",
       "    }\n",
       "\n",
       "    .dataframe tbody tr th {\n",
       "        vertical-align: top;\n",
       "    }\n",
       "\n",
       "    .dataframe thead th {\n",
       "        text-align: right;\n",
       "    }\n",
       "</style>\n",
       "<table border=\"1\" class=\"dataframe\">\n",
       "  <thead>\n",
       "    <tr style=\"text-align: right;\">\n",
       "      <th></th>\n",
       "      <th>rating_id</th>\n",
       "      <th>book_id</th>\n",
       "      <th>username</th>\n",
       "      <th>rating</th>\n",
       "    </tr>\n",
       "  </thead>\n",
       "  <tbody>\n",
       "    <tr>\n",
       "      <th>0</th>\n",
       "      <td>1</td>\n",
       "      <td>1</td>\n",
       "      <td>ryanfranco</td>\n",
       "      <td>4</td>\n",
       "    </tr>\n",
       "    <tr>\n",
       "      <th>1</th>\n",
       "      <td>2</td>\n",
       "      <td>1</td>\n",
       "      <td>grantpatricia</td>\n",
       "      <td>2</td>\n",
       "    </tr>\n",
       "    <tr>\n",
       "      <th>2</th>\n",
       "      <td>3</td>\n",
       "      <td>1</td>\n",
       "      <td>brandtandrea</td>\n",
       "      <td>5</td>\n",
       "    </tr>\n",
       "    <tr>\n",
       "      <th>3</th>\n",
       "      <td>4</td>\n",
       "      <td>2</td>\n",
       "      <td>lorichen</td>\n",
       "      <td>3</td>\n",
       "    </tr>\n",
       "    <tr>\n",
       "      <th>4</th>\n",
       "      <td>5</td>\n",
       "      <td>2</td>\n",
       "      <td>mariokeller</td>\n",
       "      <td>2</td>\n",
       "    </tr>\n",
       "  </tbody>\n",
       "</table>\n",
       "</div>"
      ],
      "text/plain": [
       "   rating_id  book_id       username  rating\n",
       "0          1        1     ryanfranco       4\n",
       "1          2        1  grantpatricia       2\n",
       "2          3        1   brandtandrea       5\n",
       "3          4        2       lorichen       3\n",
       "4          5        2    mariokeller       2"
      ]
     },
     "metadata": {},
     "output_type": "display_data"
    },
    {
     "name": "stdout",
     "output_type": "stream",
     "text": [
      "No se encontraron valores duplicados en la tabla 'ratings'.\n",
      "No se encontraron valores faltantes en la tabla 'ratings'.\n",
      "\n",
      "--------------------------------------------------\n",
      "\n",
      "Tabla: reviews\n"
     ]
    },
    {
     "data": {
      "text/html": [
       "<div>\n",
       "<style scoped>\n",
       "    .dataframe tbody tr th:only-of-type {\n",
       "        vertical-align: middle;\n",
       "    }\n",
       "\n",
       "    .dataframe tbody tr th {\n",
       "        vertical-align: top;\n",
       "    }\n",
       "\n",
       "    .dataframe thead th {\n",
       "        text-align: right;\n",
       "    }\n",
       "</style>\n",
       "<table border=\"1\" class=\"dataframe\">\n",
       "  <thead>\n",
       "    <tr style=\"text-align: right;\">\n",
       "      <th></th>\n",
       "      <th>review_id</th>\n",
       "      <th>book_id</th>\n",
       "      <th>username</th>\n",
       "      <th>text</th>\n",
       "    </tr>\n",
       "  </thead>\n",
       "  <tbody>\n",
       "    <tr>\n",
       "      <th>0</th>\n",
       "      <td>1</td>\n",
       "      <td>1</td>\n",
       "      <td>brandtandrea</td>\n",
       "      <td>Mention society tell send professor analysis. ...</td>\n",
       "    </tr>\n",
       "    <tr>\n",
       "      <th>1</th>\n",
       "      <td>2</td>\n",
       "      <td>1</td>\n",
       "      <td>ryanfranco</td>\n",
       "      <td>Foot glass pretty audience hit themselves. Amo...</td>\n",
       "    </tr>\n",
       "    <tr>\n",
       "      <th>2</th>\n",
       "      <td>3</td>\n",
       "      <td>2</td>\n",
       "      <td>lorichen</td>\n",
       "      <td>Listen treat keep worry. Miss husband tax but ...</td>\n",
       "    </tr>\n",
       "    <tr>\n",
       "      <th>3</th>\n",
       "      <td>4</td>\n",
       "      <td>3</td>\n",
       "      <td>johnsonamanda</td>\n",
       "      <td>Finally month interesting blue could nature cu...</td>\n",
       "    </tr>\n",
       "    <tr>\n",
       "      <th>4</th>\n",
       "      <td>5</td>\n",
       "      <td>3</td>\n",
       "      <td>scotttamara</td>\n",
       "      <td>Nation purpose heavy give wait song will. List...</td>\n",
       "    </tr>\n",
       "  </tbody>\n",
       "</table>\n",
       "</div>"
      ],
      "text/plain": [
       "   review_id  book_id       username  \\\n",
       "0          1        1   brandtandrea   \n",
       "1          2        1     ryanfranco   \n",
       "2          3        2       lorichen   \n",
       "3          4        3  johnsonamanda   \n",
       "4          5        3    scotttamara   \n",
       "\n",
       "                                                text  \n",
       "0  Mention society tell send professor analysis. ...  \n",
       "1  Foot glass pretty audience hit themselves. Amo...  \n",
       "2  Listen treat keep worry. Miss husband tax but ...  \n",
       "3  Finally month interesting blue could nature cu...  \n",
       "4  Nation purpose heavy give wait song will. List...  "
      ]
     },
     "metadata": {},
     "output_type": "display_data"
    },
    {
     "name": "stdout",
     "output_type": "stream",
     "text": [
      "No se encontraron valores duplicados en la tabla 'reviews'.\n",
      "No se encontraron valores faltantes en la tabla 'reviews'.\n",
      "\n",
      "--------------------------------------------------\n",
      "\n"
     ]
    }
   ],
   "source": [
    "# Lista de tablas a analizar\n",
    "tables = ['books', 'authors', 'publishers', 'ratings', 'reviews']\n",
    "\n",
    "for table in tables:\n",
    "    # Construcción de la consulta SQL\n",
    "    query = f'SELECT * FROM {table} LIMIT 5'\n",
    "\n",
    "    # Lectura de la tabla en un DataFrame\n",
    "    df = pd.read_sql(query, con=engine)\n",
    "\n",
    "    # Visualización de las primeras filas de la tabla\n",
    "    print(f\"Tabla: {table}\")\n",
    "    display(df)\n",
    "\n",
    "    # Verificación de duplicados\n",
    "    duplicates = df.duplicated()\n",
    "    if duplicates.any():\n",
    "        print(f\"Se encontraron duplicados en la tabla '{table}':\")\n",
    "        display(df[duplicates])\n",
    "    else:\n",
    "        print(f\"No se encontraron valores duplicados en la tabla '{table}'.\")\n",
    "\n",
    "    # Verificación de valores faltantes\n",
    "    missing_values = df.isnull().sum()\n",
    "    if missing_values.any():\n",
    "        print(f\"Se encontraron valores faltantes en la tabla '{table}':\")\n",
    "        display(missing_values[missing_values > 0])\n",
    "    else:\n",
    "        print(f\"No se encontraron valores faltantes en la tabla '{table}'.\")\n",
    "    print(\"\\n\" + \"-\"*50 + \"\\n\")\n"
   ]
  },
  {
   "cell_type": "markdown",
   "metadata": {},
   "source": [
    "La tabla `books` contiene información sobre varios libros, incluyendo su identificación (`book_id`), identificación del autor (`author_id`), título (`title`), número de páginas (`num_pages`), fecha de publicación (`publication_date`) e identificación de la editorial (`publisher_id`). Al revisar las primeras cinco filas de esta tabla, encontramos títulos notables como 'Salem's Lot' y '1,000 Places to See Before You Die'. No se encontraron valores duplicados ni faltantes en esta tabla, lo que indica que los datos están completos y únicos.\n",
    "\n",
    "La tabla `authors` almacena datos sobre los autores, específicamente su identificación (`author_id`) y su nombre (`author`). Entre los autores listados en las primeras cinco filas, se encuentran nombres reconocidos como A.S. Byatt y Agatha Christie. Al igual que en la tabla de libros, no se encontraron valores duplicados ni faltantes, lo que sugiere una alta calidad en los datos de los autores.\n",
    "\n",
    "En la tabla `publishers`, se presenta la identificación de la editorial (`publisher_id`) y el nombre de la editorial (`publisher`). Ejemplos de editoriales en las primeras filas incluyen Ace, Ace Book, y Addison Wesley Publishing Company. La revisión de esta tabla no reveló duplicados ni valores faltantes, indicando datos completos y bien gestionados.\n",
    "\n",
    "La tabla `ratings` contiene información sobre las calificaciones dadas a los libros por los usuarios, incluyendo la identificación de la calificación (`rating_id`), identificación del libro (`book_id`), nombre del usuario (`username`) y la calificación (`rating`). Las primeras cinco filas muestran una variedad de calificaciones dadas por diferentes usuarios a distintos libros. Esta tabla también está libre de valores duplicados y faltantes, lo que asegura la integridad y la fiabilidad de los datos de calificaciones.\n",
    "\n",
    "Por último, la tabla `reviews` proporciona detalles sobre las reseñas de los libros, incluyendo la identificación de la reseña (`review_id`), identificación del libro (`book_id`), nombre del usuario (`username`) y el texto de la reseña (`text`). Las reseñas en las primeras filas muestran una diversidad de opiniones de los usuarios sobre varios libros. Al igual que las otras tablas, no se encontraron valores duplicados ni faltantes en esta tabla, garantizando que los datos de las reseñas sean completos y únicos.\n",
    "\n",
    "En resumen, las tablas `books`, `authors`, `publishers`, `ratings` y `reviews` no contienen valores duplicados ni faltantes, lo que sugiere que los datos son de alta calidad y están listos para ser utilizados en análisis más detallados.\n"
   ]
  },
  {
   "cell_type": "markdown",
   "metadata": {},
   "source": [
    "## Análisis y Resultados de Consultas SQL\n",
    "Función para ejecutar consultas SQL"
   ]
  },
  {
   "cell_type": "code",
   "execution_count": 4,
   "metadata": {},
   "outputs": [],
   "source": [
    "# Crear una función para ejecutar consultas SQL\n",
    "def execute(query):\n",
    "    \"\"\"\n",
    "    Ejecuta una consulta SQL y devuelve los resultados en un DataFrame de pandas.\n",
    "\n",
    "    Parámetros:\n",
    "    query (str): La consulta SQL a ejecutar.\n",
    "\n",
    "    Retorna:\n",
    "    pd.DataFrame: Un DataFrame de pandas que contiene los resultados de la consulta.\n",
    "    \"\"\"\n",
    "    return pd.read_sql(query, con=engine)"
   ]
  },
  {
   "cell_type": "markdown",
   "metadata": {},
   "source": [
    "### Número de libros publicados después del 1 de enero de 2000"
   ]
  },
  {
   "cell_type": "code",
   "execution_count": 5,
   "metadata": {},
   "outputs": [
    {
     "data": {
      "text/html": [
       "<div>\n",
       "<style scoped>\n",
       "    .dataframe tbody tr th:only-of-type {\n",
       "        vertical-align: middle;\n",
       "    }\n",
       "\n",
       "    .dataframe tbody tr th {\n",
       "        vertical-align: top;\n",
       "    }\n",
       "\n",
       "    .dataframe thead th {\n",
       "        text-align: right;\n",
       "    }\n",
       "</style>\n",
       "<table border=\"1\" class=\"dataframe\">\n",
       "  <thead>\n",
       "    <tr style=\"text-align: right;\">\n",
       "      <th></th>\n",
       "      <th>total_book_count</th>\n",
       "      <th>book_count_after_date</th>\n",
       "    </tr>\n",
       "  </thead>\n",
       "  <tbody>\n",
       "    <tr>\n",
       "      <th>0</th>\n",
       "      <td>1000</td>\n",
       "      <td>819</td>\n",
       "    </tr>\n",
       "  </tbody>\n",
       "</table>\n",
       "</div>"
      ],
      "text/plain": [
       "   total_book_count  book_count_after_date\n",
       "0              1000                    819"
      ]
     },
     "metadata": {},
     "output_type": "display_data"
    }
   ],
   "source": [
    "# Definir la consulta SQL para contar los libros totales y los publicados después del 1 de enero de 2000\n",
    "query1 = '''\n",
    "SELECT\n",
    "    (SELECT COUNT(*) FROM books) AS total_book_count,\n",
    "    COUNT(*) AS book_count_after_date\n",
    "FROM\n",
    "    books\n",
    "WHERE\n",
    "    publication_date > '2000-01-01';\n",
    "'''\n",
    "\n",
    "# Ejecutar la consulta y almacenar el resultado en un DataFrame\n",
    "result1 = execute(query1)\n",
    "\n",
    "# Mostrar el resultado\n",
    "display(result1)\n"
   ]
  },
  {
   "cell_type": "markdown",
   "metadata": {},
   "source": [
    "De los 1000 libros en el conjunto de datos, una mayoría significativa de 819 libros, representando el 81.9%, se publicaron después del 1 de enero de 2000. Esto indica una clara tendencia hacia publicaciones más recientes, reflejando el panorama literario en evolución y la prevalencia de obras contemporáneas. Los datos muestran un cambio en las preferencias de los lectores hacia lanzamientos más nuevos, destacando la relevancia y popularidad de los libros del siglo XXI."
   ]
  },
  {
   "cell_type": "markdown",
   "metadata": {},
   "source": [
    "### Número de reseñas de usuarios y la calificación promedio para cada libro"
   ]
  },
  {
   "cell_type": "code",
   "execution_count": 6,
   "metadata": {},
   "outputs": [
    {
     "data": {
      "text/html": [
       "<div>\n",
       "<style scoped>\n",
       "    .dataframe tbody tr th:only-of-type {\n",
       "        vertical-align: middle;\n",
       "    }\n",
       "\n",
       "    .dataframe tbody tr th {\n",
       "        vertical-align: top;\n",
       "    }\n",
       "\n",
       "    .dataframe thead th {\n",
       "        text-align: right;\n",
       "    }\n",
       "</style>\n",
       "<table border=\"1\" class=\"dataframe\">\n",
       "  <thead>\n",
       "    <tr style=\"text-align: right;\">\n",
       "      <th></th>\n",
       "      <th>book_title</th>\n",
       "      <th>reviews_count</th>\n",
       "      <th>average_rating</th>\n",
       "    </tr>\n",
       "  </thead>\n",
       "  <tbody>\n",
       "    <tr>\n",
       "      <th>0</th>\n",
       "      <td>Memoirs of a Geisha</td>\n",
       "      <td>8</td>\n",
       "      <td>4.138462</td>\n",
       "    </tr>\n",
       "    <tr>\n",
       "      <th>1</th>\n",
       "      <td>Twilight (Twilight  #1)</td>\n",
       "      <td>7</td>\n",
       "      <td>3.662500</td>\n",
       "    </tr>\n",
       "    <tr>\n",
       "      <th>2</th>\n",
       "      <td>Harry Potter and the Prisoner of Azkaban (Harr...</td>\n",
       "      <td>6</td>\n",
       "      <td>4.414634</td>\n",
       "    </tr>\n",
       "    <tr>\n",
       "      <th>3</th>\n",
       "      <td>Harry Potter and the Chamber of Secrets (Harry...</td>\n",
       "      <td>6</td>\n",
       "      <td>4.287500</td>\n",
       "    </tr>\n",
       "    <tr>\n",
       "      <th>4</th>\n",
       "      <td>The Book Thief</td>\n",
       "      <td>6</td>\n",
       "      <td>4.264151</td>\n",
       "    </tr>\n",
       "    <tr>\n",
       "      <th>...</th>\n",
       "      <td>...</td>\n",
       "      <td>...</td>\n",
       "      <td>...</td>\n",
       "    </tr>\n",
       "    <tr>\n",
       "      <th>994</th>\n",
       "      <td>Disney's Beauty and the Beast (A Little Golden...</td>\n",
       "      <td>0</td>\n",
       "      <td>4.000000</td>\n",
       "    </tr>\n",
       "    <tr>\n",
       "      <th>995</th>\n",
       "      <td>Essential Tales and Poems</td>\n",
       "      <td>0</td>\n",
       "      <td>4.000000</td>\n",
       "    </tr>\n",
       "    <tr>\n",
       "      <th>996</th>\n",
       "      <td>Leonardo's Notebooks</td>\n",
       "      <td>0</td>\n",
       "      <td>4.000000</td>\n",
       "    </tr>\n",
       "    <tr>\n",
       "      <th>997</th>\n",
       "      <td>Anne Rice's The Vampire Lestat: A Graphic Novel</td>\n",
       "      <td>0</td>\n",
       "      <td>3.666667</td>\n",
       "    </tr>\n",
       "    <tr>\n",
       "      <th>998</th>\n",
       "      <td>The Natural Way to Draw</td>\n",
       "      <td>0</td>\n",
       "      <td>3.000000</td>\n",
       "    </tr>\n",
       "  </tbody>\n",
       "</table>\n",
       "<p>999 rows × 3 columns</p>\n",
       "</div>"
      ],
      "text/plain": [
       "                                            book_title  reviews_count  \\\n",
       "0                                  Memoirs of a Geisha              8   \n",
       "1                              Twilight (Twilight  #1)              7   \n",
       "2    Harry Potter and the Prisoner of Azkaban (Harr...              6   \n",
       "3    Harry Potter and the Chamber of Secrets (Harry...              6   \n",
       "4                                       The Book Thief              6   \n",
       "..                                                 ...            ...   \n",
       "994  Disney's Beauty and the Beast (A Little Golden...              0   \n",
       "995                          Essential Tales and Poems              0   \n",
       "996                               Leonardo's Notebooks              0   \n",
       "997    Anne Rice's The Vampire Lestat: A Graphic Novel              0   \n",
       "998                            The Natural Way to Draw              0   \n",
       "\n",
       "     average_rating  \n",
       "0          4.138462  \n",
       "1          3.662500  \n",
       "2          4.414634  \n",
       "3          4.287500  \n",
       "4          4.264151  \n",
       "..              ...  \n",
       "994        4.000000  \n",
       "995        4.000000  \n",
       "996        4.000000  \n",
       "997        3.666667  \n",
       "998        3.000000  \n",
       "\n",
       "[999 rows x 3 columns]"
      ]
     },
     "metadata": {},
     "output_type": "display_data"
    }
   ],
   "source": [
    "# Definir la consulta SQL para obtener el número de reseñas de usuarios y la calificación promedio para cada libro\n",
    "query2 = '''\n",
    "SELECT \n",
    "    b.title AS book_title, \n",
    "    COUNT(DISTINCT r.review_id) AS reviews_count,\n",
    "    AVG(ra.rating) AS average_rating\n",
    "FROM \n",
    "    books b\n",
    "LEFT JOIN \n",
    "    reviews r ON b.book_id = r.book_id\n",
    "LEFT JOIN \n",
    "    ratings ra ON b.book_id = ra.book_id\n",
    "GROUP BY \n",
    "    b.title\n",
    "ORDER BY \n",
    "    reviews_count DESC, average_rating DESC;\n",
    "'''\n",
    "\n",
    "# Ejecutar la consulta y almacenar el resultado en un DataFrame\n",
    "result2 = execute(query2)\n",
    "\n",
    "# Mostrar el resultado\n",
    "display(result2)\n"
   ]
  },
  {
   "cell_type": "markdown",
   "metadata": {},
   "source": [
    "Analizando los resultados, podemos observar patrones interesantes:\n",
    "\n",
    "- 'Memoirs of a Geisha' lidera con 8 reseñas y una calificación promedio de 4.13, recibiendo comentarios positivos que reflejan su narrativa cautivadora.\n",
    "- 'Twilight (Twilight #1)' sigue de cerca con 7 reseñas, pero recibe una calificación promedio relativamente baja de alrededor de 3.6, implicando opiniones mixtas de los lectores.\n",
    "- Los libros de 'Harry Potter', cada uno con 6 reseñas, destacan con calificaciones promedio consistentemente altas que superan el 4.1. Esto subraya la magia perdurable y el estatus querido de la serie encantadora de J.K. Rowling.\n",
    "- 'The Book Thief' también recibe 6 reseñas y tiene una calificación promedio de 4.26, consolidando aún más su reputación como una obra literaria cautivadora y muy apreciada."
   ]
  },
  {
   "cell_type": "markdown",
   "metadata": {},
   "source": [
    "###  Editorial que ha publicado el mayor número de libros con más de 50 páginas"
   ]
  },
  {
   "cell_type": "code",
   "execution_count": 7,
   "metadata": {},
   "outputs": [
    {
     "data": {
      "text/html": [
       "<div>\n",
       "<style scoped>\n",
       "    .dataframe tbody tr th:only-of-type {\n",
       "        vertical-align: middle;\n",
       "    }\n",
       "\n",
       "    .dataframe tbody tr th {\n",
       "        vertical-align: top;\n",
       "    }\n",
       "\n",
       "    .dataframe thead th {\n",
       "        text-align: right;\n",
       "    }\n",
       "</style>\n",
       "<table border=\"1\" class=\"dataframe\">\n",
       "  <thead>\n",
       "    <tr style=\"text-align: right;\">\n",
       "      <th></th>\n",
       "      <th>publisher</th>\n",
       "      <th>books_count</th>\n",
       "    </tr>\n",
       "  </thead>\n",
       "  <tbody>\n",
       "    <tr>\n",
       "      <th>0</th>\n",
       "      <td>Penguin Books</td>\n",
       "      <td>42</td>\n",
       "    </tr>\n",
       "  </tbody>\n",
       "</table>\n",
       "</div>"
      ],
      "text/plain": [
       "       publisher  books_count\n",
       "0  Penguin Books           42"
      ]
     },
     "metadata": {},
     "output_type": "display_data"
    }
   ],
   "source": [
    "# Definir la consulta SQL para identificar la editorial que ha publicado el mayor número de libros con más de 50 páginas\n",
    "query3 = '''\n",
    "SELECT \n",
    "    p.publisher, \n",
    "    COUNT(b.book_id) AS books_count\n",
    "FROM \n",
    "    books b\n",
    "JOIN \n",
    "    publishers p ON b.publisher_id = p.publisher_id\n",
    "WHERE \n",
    "    b.num_pages > 50\n",
    "GROUP BY \n",
    "    p.publisher\n",
    "ORDER BY \n",
    "    books_count DESC\n",
    "LIMIT \n",
    "    1;\n",
    "'''\n",
    "\n",
    "# Ejecutar la consulta y almacenar el resultado en un DataFrame\n",
    "result3 = execute(query3)\n",
    "\n",
    "# Mostrar el resultado\n",
    "display(result3)\n"
   ]
  },
  {
   "cell_type": "markdown",
   "metadata": {},
   "source": [
    "En nuestra base de datos, la reconocida editorial 'Penguin Books' brilla con luz propia. Gracias a sus contribuciones, tenemos el placer de sumergirnos en una diversa colección de 42 libros cautivadores, cada uno con más de 50 páginas. 'Penguin Books' ha entregado consistentemente tesoros literarios que atraen e inspiran a los lectores, convirtiéndola en una verdadera estrella en el mundo editorial."
   ]
  },
  {
   "cell_type": "markdown",
   "metadata": {},
   "source": [
    "### Autor con la más alta calificación promedio del libro (al menos 50 calificaciones)"
   ]
  },
  {
   "cell_type": "code",
   "execution_count": 8,
   "metadata": {},
   "outputs": [
    {
     "data": {
      "text/html": [
       "<div>\n",
       "<style scoped>\n",
       "    .dataframe tbody tr th:only-of-type {\n",
       "        vertical-align: middle;\n",
       "    }\n",
       "\n",
       "    .dataframe tbody tr th {\n",
       "        vertical-align: top;\n",
       "    }\n",
       "\n",
       "    .dataframe thead th {\n",
       "        text-align: right;\n",
       "    }\n",
       "</style>\n",
       "<table border=\"1\" class=\"dataframe\">\n",
       "  <thead>\n",
       "    <tr style=\"text-align: right;\">\n",
       "      <th></th>\n",
       "      <th>author</th>\n",
       "      <th>average_rating</th>\n",
       "    </tr>\n",
       "  </thead>\n",
       "  <tbody>\n",
       "    <tr>\n",
       "      <th>0</th>\n",
       "      <td>J.K. Rowling/Mary GrandPré</td>\n",
       "      <td>4.288462</td>\n",
       "    </tr>\n",
       "  </tbody>\n",
       "</table>\n",
       "</div>"
      ],
      "text/plain": [
       "                       author  average_rating\n",
       "0  J.K. Rowling/Mary GrandPré        4.288462"
      ]
     },
     "metadata": {},
     "output_type": "display_data"
    }
   ],
   "source": [
    "# Definir la consulta SQL para identificar al autor con la más alta calificación promedio del libro (considerando solo libros con al menos 50 calificaciones)\n",
    "query4 = '''\n",
    "SELECT \n",
    "    a.author, \n",
    "    AVG(ra.rating) AS average_rating\n",
    "FROM \n",
    "    books b\n",
    "JOIN \n",
    "    authors a ON b.author_id = a.author_id\n",
    "JOIN \n",
    "    ratings ra ON b.book_id = ra.book_id\n",
    "GROUP BY \n",
    "    a.author\n",
    "HAVING \n",
    "    COUNT(ra.rating) > 50\n",
    "ORDER BY \n",
    "    average_rating DESC\n",
    "LIMIT \n",
    "    1;\n",
    "'''\n",
    "\n",
    "# Ejecutar la consulta y almacenar el resultado en un DataFrame\n",
    "result4 = execute(query4)\n",
    "\n",
    "# Mostrar el resultado\n",
    "display(result4)\n"
   ]
  },
  {
   "cell_type": "markdown",
   "metadata": {},
   "source": [
    "Cuando se trata del autor con la calificación promedio más alta, el dúo dinámico de J.K. Rowling y la talentosa ilustradora Mary GrandPré, el equipo mágico detrás de la popular serie Harry Potter, se lleva la corona. Han recibido una calificación promedio increíble de ~4.3 estrellas, encantando a los lectores con narraciones cautivadoras e ilustraciones visualmente impresionantes que dan vida al mundo mágico."
   ]
  },
  {
   "cell_type": "markdown",
   "metadata": {},
   "source": [
    "### Número promedio de reseñas de texto entre los usuarios que calificaron más de 50 libros"
   ]
  },
  {
   "cell_type": "code",
   "execution_count": 9,
   "metadata": {},
   "outputs": [
    {
     "data": {
      "text/html": [
       "<div>\n",
       "<style scoped>\n",
       "    .dataframe tbody tr th:only-of-type {\n",
       "        vertical-align: middle;\n",
       "    }\n",
       "\n",
       "    .dataframe tbody tr th {\n",
       "        vertical-align: top;\n",
       "    }\n",
       "\n",
       "    .dataframe thead th {\n",
       "        text-align: right;\n",
       "    }\n",
       "</style>\n",
       "<table border=\"1\" class=\"dataframe\">\n",
       "  <thead>\n",
       "    <tr style=\"text-align: right;\">\n",
       "      <th></th>\n",
       "      <th>average_text_reviews</th>\n",
       "    </tr>\n",
       "  </thead>\n",
       "  <tbody>\n",
       "    <tr>\n",
       "      <th>0</th>\n",
       "      <td>24.333333</td>\n",
       "    </tr>\n",
       "  </tbody>\n",
       "</table>\n",
       "</div>"
      ],
      "text/plain": [
       "   average_text_reviews\n",
       "0             24.333333"
      ]
     },
     "metadata": {},
     "output_type": "display_data"
    }
   ],
   "source": [
    "# Definir la consulta SQL para encontrar el número promedio de reseñas de texto entre los usuarios que calificaron más de 50 libros\n",
    "query5 = '''\n",
    "SELECT \n",
    "    AVG(review_count) AS average_text_reviews\n",
    "FROM (\n",
    "    SELECT \n",
    "        r.username, \n",
    "        COUNT(r.review_id) AS review_count\n",
    "    FROM \n",
    "        ratings ra\n",
    "    JOIN \n",
    "        reviews r ON ra.book_id = r.book_id AND ra.username = r.username\n",
    "    WHERE \n",
    "        ra.username IN (\n",
    "            SELECT \n",
    "                username\n",
    "            FROM \n",
    "                ratings\n",
    "            GROUP BY \n",
    "                username\n",
    "            HAVING \n",
    "                COUNT(book_id) > 50\n",
    "        )\n",
    "    GROUP BY \n",
    "        r.username\n",
    ") AS subquery;\n",
    "'''\n",
    "\n",
    "# Ejecutar la consulta y almacenar el resultado en un DataFrame\n",
    "result5 = execute(query5)\n",
    "\n",
    "# Mostrar el resultado\n",
    "display(result5)\n"
   ]
  },
  {
   "cell_type": "markdown",
   "metadata": {},
   "source": [
    "El análisis revela que, en promedio, los usuarios que han calificado más de 50 libros también han escrito aproximadamente 24 reseñas de texto. Esto indica un alto nivel de compromiso y participación entre los usuarios más activos, lo cual es útil para diseñar programas de fidelización y estrategias de retención."
   ]
  },
  {
   "cell_type": "markdown",
   "metadata": {},
   "source": [
    "## Conclusiones"
   ]
  },
  {
   "cell_type": "markdown",
   "metadata": {},
   "source": [
    "\n",
    "El análisis de la base de datos revela varias tendencias y patrones importantes que afectan la industria del libro, especialmente durante la pandemia de coronavirus. Estos son nuestros hallazgos clave:\n",
    "\n",
    "1. **Predilección por publicaciones recientes:** La mayoría de los libros en la base de datos se publicaron después del 1 de enero de 2000, lo que refleja una clara preferencia por parte de los lectores hacia títulos más actuales. Para mantenerse relevante en el mercado, es crucial que los nuevos productos o servicios se centren en ofrecer libros contemporáneos.\n",
    "\n",
    "2. **Popularidad de ciertos títulos:** Libros como 'Memoirs of a Geisha', 'Twilight' y la serie 'Harry Potter' han recibido numerosas reseñas y calificaciones altas, lo que demuestra su aceptación y popularidad entre los lectores. Sin embargo, 'Twilight' presenta opiniones divididas, destacando la importancia de profundizar en las preferencias de los lectores. Obtener más retroalimentación puede ayudar a comprender mejor lo que atrae a los lectores y a adaptar los productos en consecuencia.\n",
    "\n",
    "3. **Éxito de 'Harry Potter':** La serie 'Harry Potter' sigue siendo muy popular, con una base de fans dedicada y altas calificaciones constantes. Esto sugiere que crear narrativas atractivas y mundos inmersivos similares podría ser una estrategia efectiva para atraer a los lectores.\n",
    "\n",
    "4. **Dominio de 'Penguin Books':** 'Penguin Books' sobresale como la editorial con más libros publicados de más de 50 páginas. Esto subraya su papel importante en la industria editorial y su habilidad para mantener a los lectores interesados con contenido diverso y de calidad.\n",
    "\n",
    "5. **Alto rendimiento de J.K. Rowling:** J.K. Rowling, junto con Mary GrandPré, destaca como la autora con la calificación promedio más alta, reafirmando la calidad y el atractivo duradero de sus libros.\n",
    "\n",
    "6. **Compromiso de los usuarios activos:** Los usuarios que califican muchos libros también tienden a escribir numerosas reseñas, lo que indica un alto nivel de compromiso. Fomentar esta participación mediante la creación de una comunidad donde los lectores puedan conectarse y personalizar sus recomendaciones puede ser beneficioso.\n",
    "\n",
    "En resumen, los datos analizados proporcionan una visión valiosa sobre las tendencias de publicación y las preferencias de los lectores. Estas ideas pueden ser utilizadas para desarrollar nuevas aplicaciones y servicios en el mercado de libros, asegurando que sean relevantes y atractivos para los entusiastas de la lectura. ¡Es hora de ser creativos y hacer algo increíble para los amantes de los libros!\n"
   ]
  },
  {
   "cell_type": "code",
   "execution_count": null,
   "metadata": {},
   "outputs": [],
   "source": []
  }
 ],
 "metadata": {
  "ExecuteTimeLog": [
   {
    "duration": 1163,
    "start_time": "2024-07-10T03:39:24.658Z"
   },
   {
    "duration": 843,
    "start_time": "2024-07-10T03:40:57.065Z"
   },
   {
    "duration": 43,
    "start_time": "2024-07-10T03:41:43.201Z"
   },
   {
    "duration": 46,
    "start_time": "2024-07-10T03:42:20.848Z"
   },
   {
    "duration": 16,
    "start_time": "2024-07-10T03:42:52.922Z"
   },
   {
    "duration": 42,
    "start_time": "2024-07-10T03:43:45.078Z"
   },
   {
    "duration": 5849,
    "start_time": "2024-07-10T03:43:57.306Z"
   },
   {
    "duration": 310,
    "start_time": "2024-07-10T03:45:04.433Z"
   },
   {
    "duration": 1817,
    "start_time": "2024-07-10T03:45:14.259Z"
   },
   {
    "duration": 0,
    "start_time": "2024-07-10T03:45:16.079Z"
   },
   {
    "duration": 0,
    "start_time": "2024-07-10T03:45:16.083Z"
   },
   {
    "duration": 7,
    "start_time": "2024-07-10T03:52:54.913Z"
   },
   {
    "duration": 146,
    "start_time": "2024-07-10T03:53:01.550Z"
   },
   {
    "duration": 46,
    "start_time": "2024-07-10T03:54:14.091Z"
   },
   {
    "duration": 86,
    "start_time": "2024-07-10T03:54:19.174Z"
   },
   {
    "duration": 5630,
    "start_time": "2024-07-10T03:55:43.174Z"
   },
   {
    "duration": 569,
    "start_time": "2024-07-10T03:59:02.535Z"
   },
   {
    "duration": 44,
    "start_time": "2024-07-10T03:59:03.108Z"
   },
   {
    "duration": 5974,
    "start_time": "2024-07-10T03:59:03.155Z"
   },
   {
    "duration": 4,
    "start_time": "2024-07-10T04:22:49.484Z"
   },
   {
    "duration": 6,
    "start_time": "2024-07-10T04:23:18.278Z"
   },
   {
    "duration": 814,
    "start_time": "2024-07-10T04:24:54.701Z"
   },
   {
    "duration": 814,
    "start_time": "2024-07-10T04:25:43.585Z"
   },
   {
    "duration": 1103,
    "start_time": "2024-07-10T04:26:25.742Z"
   },
   {
    "duration": 1108,
    "start_time": "2024-07-10T04:26:32.557Z"
   },
   {
    "duration": 816,
    "start_time": "2024-07-10T04:27:41.408Z"
   },
   {
    "duration": 817,
    "start_time": "2024-07-10T04:28:16.042Z"
   },
   {
    "duration": 820,
    "start_time": "2024-07-10T04:28:22.193Z"
   },
   {
    "duration": 818,
    "start_time": "2024-07-10T04:29:17.676Z"
   },
   {
    "duration": 566,
    "start_time": "2024-07-10T04:31:23.824Z"
   },
   {
    "duration": 45,
    "start_time": "2024-07-10T04:31:24.393Z"
   },
   {
    "duration": 5495,
    "start_time": "2024-07-10T04:31:24.440Z"
   },
   {
    "duration": 5,
    "start_time": "2024-07-10T04:31:29.937Z"
   },
   {
    "duration": 728,
    "start_time": "2024-07-10T04:31:29.946Z"
   },
   {
    "duration": 993,
    "start_time": "2024-07-10T04:31:30.677Z"
   },
   {
    "duration": 730,
    "start_time": "2024-07-10T04:31:31.673Z"
   },
   {
    "duration": 731,
    "start_time": "2024-07-10T04:31:32.406Z"
   },
   {
    "duration": 733,
    "start_time": "2024-07-10T04:31:33.139Z"
   },
   {
    "duration": 338,
    "start_time": "2024-07-10T04:31:33.875Z"
   },
   {
    "duration": 539,
    "start_time": "2024-07-10T04:34:27.650Z"
   },
   {
    "duration": 44,
    "start_time": "2024-07-10T04:34:28.193Z"
   },
   {
    "duration": 5678,
    "start_time": "2024-07-10T04:34:28.240Z"
   },
   {
    "duration": 5,
    "start_time": "2024-07-10T04:34:33.921Z"
   },
   {
    "duration": 773,
    "start_time": "2024-07-10T04:34:33.930Z"
   },
   {
    "duration": 1050,
    "start_time": "2024-07-10T04:34:34.706Z"
   },
   {
    "duration": 776,
    "start_time": "2024-07-10T04:34:35.759Z"
   },
   {
    "duration": 777,
    "start_time": "2024-07-10T04:34:36.537Z"
   },
   {
    "duration": 778,
    "start_time": "2024-07-10T04:34:37.317Z"
   },
   {
    "duration": 5,
    "start_time": "2024-07-10T04:51:46.054Z"
   },
   {
    "duration": 4,
    "start_time": "2024-07-10T04:52:11.389Z"
   }
  ],
  "kernelspec": {
   "display_name": "Python 3 (ipykernel)",
   "language": "python",
   "name": "python3"
  },
  "language_info": {
   "codemirror_mode": {
    "name": "ipython",
    "version": 3
   },
   "file_extension": ".py",
   "mimetype": "text/x-python",
   "name": "python",
   "nbconvert_exporter": "python",
   "pygments_lexer": "ipython3",
   "version": "3.9.19"
  },
  "toc": {
   "base_numbering": 1,
   "nav_menu": {},
   "number_sections": true,
   "sideBar": true,
   "skip_h1_title": true,
   "title_cell": "Table of Contents",
   "title_sidebar": "Contents",
   "toc_cell": false,
   "toc_position": {
    "height": "calc(100% - 180px)",
    "left": "10px",
    "top": "150px",
    "width": "410.66px"
   },
   "toc_section_display": true,
   "toc_window_display": true
  }
 },
 "nbformat": 4,
 "nbformat_minor": 2
}
