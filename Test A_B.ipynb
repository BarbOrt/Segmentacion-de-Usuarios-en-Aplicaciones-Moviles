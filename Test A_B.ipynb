{
 "cells": [
  {
   "cell_type": "markdown",
   "metadata": {},
   "source": [
    "# Proyecto de Pruebas A/B\n",
    "\n",
    "## Introducción\n",
    "\n",
    "En este estudio analítico, se llevó a cabo una prueba A/B en una tienda en línea internacional con el objetivo de evaluar la efectividad de un nuevo embudo de pago. La prueba, denominada `recommender_system_test`, fue diseñada para introducir un sistema de recomendaciones mejorado y compararlo con el embudo de pago existente, que servía como grupo de control. El sistema de recomendaciones mejorado busca personalizar las sugerencias de productos para cada usuario, aumentando así las probabilidades de conversión en cada etapa del embudo de ventas.\n",
    "\n",
    "\n",
    "### Objetivos del estudio:\n",
    "\n",
    "\n",
    "- Evaluar si el nuevo embudo de pago mejora las tasas de conversión de los usuarios en las etapas clave del embudo de ventas: `product_page`, `product_cart`, y `purchase`.\n",
    "- Determinar si existen diferencias estadísticamente significativas en las tasas de conversión entre el grupo de control y el grupo experimental.\n",
    "- Proporcionar recomendaciones basadas en los resultados obtenidos para optimizar las estrategias de ventas y marketing de la tienda en línea.\n",
    "\n",
    "Este informe detallará el proceso de análisis de datos, desde la carga inicial de los conjuntos de datos hasta la evaluación de resultados y conclusiones derivadas del estudio de prueba A/B."
   ]
  },
  {
   "cell_type": "markdown",
   "metadata": {},
   "source": [
    "### Importación de librerías"
   ]
  },
  {
   "cell_type": "code",
   "execution_count": 1,
   "metadata": {},
   "outputs": [],
   "source": [
    "# Importación de Librerías\n",
    "import pandas as pd             # Para la manipulación y análisis de datos\n",
    "import numpy as np              # Para operaciones numéricas y cálculos estadísticos\n",
    "import matplotlib.pyplot as plt # Para visualización de datos\n",
    "import seaborn as sns           # Para visualización de datos más atractiva\n",
    "from scipy import stats         # Para pruebas estadísticas\n",
    "from statsmodels.stats.proportion import proportions_ztest # Para la prueba Z de proporciones\n",
    "\n",
    "# Configuración de estilo para los gráficos\n",
    "sns.set(style=\"whitegrid\")\n",
    "plt.rcParams['figure.figsize'] = (9, 5)\n"
   ]
  },
  {
   "cell_type": "markdown",
   "metadata": {},
   "source": [
    "### Carga de datos"
   ]
  },
  {
   "cell_type": "code",
   "execution_count": 2,
   "metadata": {},
   "outputs": [
    {
     "name": "stdout",
     "output_type": "stream",
     "text": [
      "\n",
      "--------------------------------------------------\n",
      "marketing_events:\n"
     ]
    },
    {
     "data": {
      "text/html": [
       "<div>\n",
       "<style scoped>\n",
       "    .dataframe tbody tr th:only-of-type {\n",
       "        vertical-align: middle;\n",
       "    }\n",
       "\n",
       "    .dataframe tbody tr th {\n",
       "        vertical-align: top;\n",
       "    }\n",
       "\n",
       "    .dataframe thead th {\n",
       "        text-align: right;\n",
       "    }\n",
       "</style>\n",
       "<table border=\"1\" class=\"dataframe\">\n",
       "  <thead>\n",
       "    <tr style=\"text-align: right;\">\n",
       "      <th></th>\n",
       "      <th>name</th>\n",
       "      <th>regions</th>\n",
       "      <th>start_dt</th>\n",
       "      <th>finish_dt</th>\n",
       "    </tr>\n",
       "  </thead>\n",
       "  <tbody>\n",
       "    <tr>\n",
       "      <th>0</th>\n",
       "      <td>Christmas&amp;New Year Promo</td>\n",
       "      <td>EU, N.America</td>\n",
       "      <td>2020-12-25</td>\n",
       "      <td>2021-01-03</td>\n",
       "    </tr>\n",
       "    <tr>\n",
       "      <th>1</th>\n",
       "      <td>St. Valentine's Day Giveaway</td>\n",
       "      <td>EU, CIS, APAC, N.America</td>\n",
       "      <td>2020-02-14</td>\n",
       "      <td>2020-02-16</td>\n",
       "    </tr>\n",
       "    <tr>\n",
       "      <th>2</th>\n",
       "      <td>St. Patric's Day Promo</td>\n",
       "      <td>EU, N.America</td>\n",
       "      <td>2020-03-17</td>\n",
       "      <td>2020-03-19</td>\n",
       "    </tr>\n",
       "    <tr>\n",
       "      <th>3</th>\n",
       "      <td>Easter Promo</td>\n",
       "      <td>EU, CIS, APAC, N.America</td>\n",
       "      <td>2020-04-12</td>\n",
       "      <td>2020-04-19</td>\n",
       "    </tr>\n",
       "    <tr>\n",
       "      <th>4</th>\n",
       "      <td>4th of July Promo</td>\n",
       "      <td>N.America</td>\n",
       "      <td>2020-07-04</td>\n",
       "      <td>2020-07-11</td>\n",
       "    </tr>\n",
       "  </tbody>\n",
       "</table>\n",
       "</div>"
      ],
      "text/plain": [
       "                           name                   regions    start_dt  \\\n",
       "0      Christmas&New Year Promo             EU, N.America  2020-12-25   \n",
       "1  St. Valentine's Day Giveaway  EU, CIS, APAC, N.America  2020-02-14   \n",
       "2        St. Patric's Day Promo             EU, N.America  2020-03-17   \n",
       "3                  Easter Promo  EU, CIS, APAC, N.America  2020-04-12   \n",
       "4             4th of July Promo                 N.America  2020-07-04   \n",
       "\n",
       "    finish_dt  \n",
       "0  2021-01-03  \n",
       "1  2020-02-16  \n",
       "2  2020-03-19  \n",
       "3  2020-04-19  \n",
       "4  2020-07-11  "
      ]
     },
     "metadata": {},
     "output_type": "display_data"
    },
    {
     "name": "stdout",
     "output_type": "stream",
     "text": [
      "\n",
      "--------------------------------------------------\n",
      "new_users:\n"
     ]
    },
    {
     "data": {
      "text/html": [
       "<div>\n",
       "<style scoped>\n",
       "    .dataframe tbody tr th:only-of-type {\n",
       "        vertical-align: middle;\n",
       "    }\n",
       "\n",
       "    .dataframe tbody tr th {\n",
       "        vertical-align: top;\n",
       "    }\n",
       "\n",
       "    .dataframe thead th {\n",
       "        text-align: right;\n",
       "    }\n",
       "</style>\n",
       "<table border=\"1\" class=\"dataframe\">\n",
       "  <thead>\n",
       "    <tr style=\"text-align: right;\">\n",
       "      <th></th>\n",
       "      <th>user_id</th>\n",
       "      <th>first_date</th>\n",
       "      <th>region</th>\n",
       "      <th>device</th>\n",
       "    </tr>\n",
       "  </thead>\n",
       "  <tbody>\n",
       "    <tr>\n",
       "      <th>0</th>\n",
       "      <td>D72A72121175D8BE</td>\n",
       "      <td>2020-12-07</td>\n",
       "      <td>EU</td>\n",
       "      <td>PC</td>\n",
       "    </tr>\n",
       "    <tr>\n",
       "      <th>1</th>\n",
       "      <td>F1C668619DFE6E65</td>\n",
       "      <td>2020-12-07</td>\n",
       "      <td>N.America</td>\n",
       "      <td>Android</td>\n",
       "    </tr>\n",
       "    <tr>\n",
       "      <th>2</th>\n",
       "      <td>2E1BF1D4C37EA01F</td>\n",
       "      <td>2020-12-07</td>\n",
       "      <td>EU</td>\n",
       "      <td>PC</td>\n",
       "    </tr>\n",
       "    <tr>\n",
       "      <th>3</th>\n",
       "      <td>50734A22C0C63768</td>\n",
       "      <td>2020-12-07</td>\n",
       "      <td>EU</td>\n",
       "      <td>iPhone</td>\n",
       "    </tr>\n",
       "    <tr>\n",
       "      <th>4</th>\n",
       "      <td>E1BDDCE0DAFA2679</td>\n",
       "      <td>2020-12-07</td>\n",
       "      <td>N.America</td>\n",
       "      <td>iPhone</td>\n",
       "    </tr>\n",
       "  </tbody>\n",
       "</table>\n",
       "</div>"
      ],
      "text/plain": [
       "            user_id  first_date     region   device\n",
       "0  D72A72121175D8BE  2020-12-07         EU       PC\n",
       "1  F1C668619DFE6E65  2020-12-07  N.America  Android\n",
       "2  2E1BF1D4C37EA01F  2020-12-07         EU       PC\n",
       "3  50734A22C0C63768  2020-12-07         EU   iPhone\n",
       "4  E1BDDCE0DAFA2679  2020-12-07  N.America   iPhone"
      ]
     },
     "metadata": {},
     "output_type": "display_data"
    },
    {
     "name": "stdout",
     "output_type": "stream",
     "text": [
      "\n",
      "--------------------------------------------------\n",
      "events:\n"
     ]
    },
    {
     "data": {
      "text/html": [
       "<div>\n",
       "<style scoped>\n",
       "    .dataframe tbody tr th:only-of-type {\n",
       "        vertical-align: middle;\n",
       "    }\n",
       "\n",
       "    .dataframe tbody tr th {\n",
       "        vertical-align: top;\n",
       "    }\n",
       "\n",
       "    .dataframe thead th {\n",
       "        text-align: right;\n",
       "    }\n",
       "</style>\n",
       "<table border=\"1\" class=\"dataframe\">\n",
       "  <thead>\n",
       "    <tr style=\"text-align: right;\">\n",
       "      <th></th>\n",
       "      <th>user_id</th>\n",
       "      <th>event_dt</th>\n",
       "      <th>event_name</th>\n",
       "      <th>details</th>\n",
       "    </tr>\n",
       "  </thead>\n",
       "  <tbody>\n",
       "    <tr>\n",
       "      <th>0</th>\n",
       "      <td>E1BDDCE0DAFA2679</td>\n",
       "      <td>2020-12-07 20:22:03</td>\n",
       "      <td>purchase</td>\n",
       "      <td>99.99</td>\n",
       "    </tr>\n",
       "    <tr>\n",
       "      <th>1</th>\n",
       "      <td>7B6452F081F49504</td>\n",
       "      <td>2020-12-07 09:22:53</td>\n",
       "      <td>purchase</td>\n",
       "      <td>9.99</td>\n",
       "    </tr>\n",
       "    <tr>\n",
       "      <th>2</th>\n",
       "      <td>9CD9F34546DF254C</td>\n",
       "      <td>2020-12-07 12:59:29</td>\n",
       "      <td>purchase</td>\n",
       "      <td>4.99</td>\n",
       "    </tr>\n",
       "    <tr>\n",
       "      <th>3</th>\n",
       "      <td>96F27A054B191457</td>\n",
       "      <td>2020-12-07 04:02:40</td>\n",
       "      <td>purchase</td>\n",
       "      <td>4.99</td>\n",
       "    </tr>\n",
       "    <tr>\n",
       "      <th>4</th>\n",
       "      <td>1FD7660FDF94CA1F</td>\n",
       "      <td>2020-12-07 10:15:09</td>\n",
       "      <td>purchase</td>\n",
       "      <td>4.99</td>\n",
       "    </tr>\n",
       "  </tbody>\n",
       "</table>\n",
       "</div>"
      ],
      "text/plain": [
       "            user_id             event_dt event_name  details\n",
       "0  E1BDDCE0DAFA2679  2020-12-07 20:22:03   purchase    99.99\n",
       "1  7B6452F081F49504  2020-12-07 09:22:53   purchase     9.99\n",
       "2  9CD9F34546DF254C  2020-12-07 12:59:29   purchase     4.99\n",
       "3  96F27A054B191457  2020-12-07 04:02:40   purchase     4.99\n",
       "4  1FD7660FDF94CA1F  2020-12-07 10:15:09   purchase     4.99"
      ]
     },
     "metadata": {},
     "output_type": "display_data"
    },
    {
     "name": "stdout",
     "output_type": "stream",
     "text": [
      "\n",
      "--------------------------------------------------\n",
      "participants:\n"
     ]
    },
    {
     "data": {
      "text/html": [
       "<div>\n",
       "<style scoped>\n",
       "    .dataframe tbody tr th:only-of-type {\n",
       "        vertical-align: middle;\n",
       "    }\n",
       "\n",
       "    .dataframe tbody tr th {\n",
       "        vertical-align: top;\n",
       "    }\n",
       "\n",
       "    .dataframe thead th {\n",
       "        text-align: right;\n",
       "    }\n",
       "</style>\n",
       "<table border=\"1\" class=\"dataframe\">\n",
       "  <thead>\n",
       "    <tr style=\"text-align: right;\">\n",
       "      <th></th>\n",
       "      <th>user_id</th>\n",
       "      <th>group</th>\n",
       "      <th>ab_test</th>\n",
       "    </tr>\n",
       "  </thead>\n",
       "  <tbody>\n",
       "    <tr>\n",
       "      <th>0</th>\n",
       "      <td>D1ABA3E2887B6A73</td>\n",
       "      <td>A</td>\n",
       "      <td>recommender_system_test</td>\n",
       "    </tr>\n",
       "    <tr>\n",
       "      <th>1</th>\n",
       "      <td>A7A3664BD6242119</td>\n",
       "      <td>A</td>\n",
       "      <td>recommender_system_test</td>\n",
       "    </tr>\n",
       "    <tr>\n",
       "      <th>2</th>\n",
       "      <td>DABC14FDDFADD29E</td>\n",
       "      <td>A</td>\n",
       "      <td>recommender_system_test</td>\n",
       "    </tr>\n",
       "    <tr>\n",
       "      <th>3</th>\n",
       "      <td>04988C5DF189632E</td>\n",
       "      <td>A</td>\n",
       "      <td>recommender_system_test</td>\n",
       "    </tr>\n",
       "    <tr>\n",
       "      <th>4</th>\n",
       "      <td>4FF2998A348C484F</td>\n",
       "      <td>A</td>\n",
       "      <td>recommender_system_test</td>\n",
       "    </tr>\n",
       "  </tbody>\n",
       "</table>\n",
       "</div>"
      ],
      "text/plain": [
       "            user_id group                  ab_test\n",
       "0  D1ABA3E2887B6A73     A  recommender_system_test\n",
       "1  A7A3664BD6242119     A  recommender_system_test\n",
       "2  DABC14FDDFADD29E     A  recommender_system_test\n",
       "3  04988C5DF189632E     A  recommender_system_test\n",
       "4  4FF2998A348C484F     A  recommender_system_test"
      ]
     },
     "metadata": {},
     "output_type": "display_data"
    }
   ],
   "source": [
    "# Función para cargar los datasets y proporcionar una descripción inicial\n",
    "def cargar_datasets(paths):\n",
    "    datasets = {}\n",
    "    for name, path in paths.items():\n",
    "        datasets[name] = pd.read_csv(path)\n",
    "        print(f\"\\n{'-'*50}\\n{name}:\")\n",
    "        display(datasets[name].head())\n",
    "    return datasets\n",
    "\n",
    "# Rutas de los archivos\n",
    "paths = {\n",
    "    \"marketing_events\": '/datasets/ab_project_marketing_events_us.csv',\n",
    "    \"new_users\": '/datasets/final_ab_new_users_upd_us.csv',\n",
    "    \"events\": '/datasets/final_ab_events_upd_us.csv',\n",
    "    \"participants\": '/datasets/final_ab_participants_upd_us.csv'\n",
    "}\n",
    "\n",
    "# Cargar los datasets\n",
    "datasets = cargar_datasets(paths)\n",
    "\n",
    "# Asignar los datasets cargados a variables individuales\n",
    "marketing_events = datasets['marketing_events']\n",
    "new_users = datasets['new_users']\n",
    "events = datasets['events']\n",
    "participants = datasets['participants']\n"
   ]
  },
  {
   "cell_type": "markdown",
   "metadata": {},
   "source": [
    "### Preparación de datos"
   ]
  },
  {
   "cell_type": "code",
   "execution_count": 3,
   "metadata": {},
   "outputs": [
    {
     "name": "stdout",
     "output_type": "stream",
     "text": [
      "\n",
      "==================================================\n",
      "Análisis inicial del dataset: Marketing Events\n",
      "==================================================\n",
      "Tamaño del dataset: (14, 4)\n",
      "<class 'pandas.core.frame.DataFrame'>\n",
      "RangeIndex: 14 entries, 0 to 13\n",
      "Data columns (total 4 columns):\n",
      " #   Column     Non-Null Count  Dtype \n",
      "---  ------     --------------  ----- \n",
      " 0   name       14 non-null     object\n",
      " 1   regions    14 non-null     object\n",
      " 2   start_dt   14 non-null     object\n",
      " 3   finish_dt  14 non-null     object\n",
      "dtypes: object(4)\n",
      "memory usage: 576.0+ bytes\n",
      "Información del dataset:\n",
      "None\n",
      "Valores nulos en cada columna:\n",
      "name         0\n",
      "regions      0\n",
      "start_dt     0\n",
      "finish_dt    0\n",
      "dtype: int64\n",
      "Número de filas duplicadas: 0\n",
      "==================================================\n",
      "\n",
      "\n",
      "==================================================\n",
      "Análisis inicial del dataset: New Users\n",
      "==================================================\n",
      "Tamaño del dataset: (58703, 4)\n",
      "<class 'pandas.core.frame.DataFrame'>\n",
      "RangeIndex: 58703 entries, 0 to 58702\n",
      "Data columns (total 4 columns):\n",
      " #   Column      Non-Null Count  Dtype \n",
      "---  ------      --------------  ----- \n",
      " 0   user_id     58703 non-null  object\n",
      " 1   first_date  58703 non-null  object\n",
      " 2   region      58703 non-null  object\n",
      " 3   device      58703 non-null  object\n",
      "dtypes: object(4)\n",
      "memory usage: 1.8+ MB\n",
      "Información del dataset:\n",
      "None\n",
      "Valores nulos en cada columna:\n",
      "user_id       0\n",
      "first_date    0\n",
      "region        0\n",
      "device        0\n",
      "dtype: int64\n",
      "Número de filas duplicadas: 0\n",
      "==================================================\n",
      "\n",
      "\n",
      "==================================================\n",
      "Análisis inicial del dataset: Events\n",
      "==================================================\n",
      "Tamaño del dataset: (423761, 4)\n",
      "<class 'pandas.core.frame.DataFrame'>\n",
      "RangeIndex: 423761 entries, 0 to 423760\n",
      "Data columns (total 4 columns):\n",
      " #   Column      Non-Null Count   Dtype  \n",
      "---  ------      --------------   -----  \n",
      " 0   user_id     423761 non-null  object \n",
      " 1   event_dt    423761 non-null  object \n",
      " 2   event_name  423761 non-null  object \n",
      " 3   details     60314 non-null   float64\n",
      "dtypes: float64(1), object(3)\n",
      "memory usage: 12.9+ MB\n",
      "Información del dataset:\n",
      "None\n",
      "Valores nulos en cada columna:\n",
      "user_id            0\n",
      "event_dt           0\n",
      "event_name         0\n",
      "details       363447\n",
      "dtype: int64\n",
      "Número de filas duplicadas: 0\n",
      "==================================================\n",
      "\n",
      "\n",
      "==================================================\n",
      "Análisis inicial del dataset: Participants\n",
      "==================================================\n",
      "Tamaño del dataset: (14525, 3)\n",
      "<class 'pandas.core.frame.DataFrame'>\n",
      "RangeIndex: 14525 entries, 0 to 14524\n",
      "Data columns (total 3 columns):\n",
      " #   Column   Non-Null Count  Dtype \n",
      "---  ------   --------------  ----- \n",
      " 0   user_id  14525 non-null  object\n",
      " 1   group    14525 non-null  object\n",
      " 2   ab_test  14525 non-null  object\n",
      "dtypes: object(3)\n",
      "memory usage: 340.6+ KB\n",
      "Información del dataset:\n",
      "None\n",
      "Valores nulos en cada columna:\n",
      "user_id    0\n",
      "group      0\n",
      "ab_test    0\n",
      "dtype: int64\n",
      "Número de filas duplicadas: 0\n",
      "==================================================\n",
      "\n"
     ]
    }
   ],
   "source": [
    "def initial_data_analysis(data, name):\n",
    "    print(f\"\\n{'='*50}\\nAnálisis inicial del dataset: {name}\\n{'='*50}\")\n",
    "    print(f\"Tamaño del dataset: {data.shape}\")\n",
    "    print(f\"Información del dataset:\\n{data.info()}\")\n",
    "    print(f\"Valores nulos en cada columna:\\n{data.isnull().sum()}\")\n",
    "    print(f\"Número de filas duplicadas: {data.duplicated().sum()}\")\n",
    "    print(\"=\"*50 + \"\\n\")\n",
    "\n",
    "initial_data_analysis(marketing_events, \"Marketing Events\")\n",
    "initial_data_analysis(new_users, \"New Users\")\n",
    "initial_data_analysis(events, \"Events\")\n",
    "initial_data_analysis(participants, \"Participants\")\n"
   ]
  },
  {
   "cell_type": "markdown",
   "metadata": {},
   "source": [
    "El dataset Marketing Events contiene un total de 14 entradas y 4 columnas. Todas las columnas están completas y no se encontraron filas duplicadas. Las columnas incluyen información sobre el nombre del evento de marketing, las regiones donde se llevó a cabo la campaña, y las fechas de inicio y finalización de cada evento, todas ellas de tipo objeto.\n",
    "\n",
    "En cuanto al dataset New Users, se observa que contiene 58,703 registros distribuidos en 4 columnas. Todas las columnas están completas y no hay filas duplicadas. Las columnas incluyen el identificador de usuario, la fecha de registro inicial, la región desde la cual se registró el usuario, y el dispositivo utilizado para el registro, todas de tipo objeto. El dataset ocupa aproximadamente 1.8 MB en memoria.\n",
    "\n",
    "En el dataset Events, se encontraron 423,761 registros distribuidos en 4 columnas. La mayoría de los registros están completos en las columnas de identificador de usuario, fecha y hora del evento, y nombre del evento. Sin embargo, la columna \"details\" que contiene datos adicionales para ciertos eventos presenta 363,447 valores nulos, lo cual podría requerir atención dependiendo del análisis específico que se realice. No se encontraron filas duplicadas en este dataset, y las columnas son una combinación de objetos y un float64 para los detalles.\n",
    "\n",
    "Finalmente, el dataset Participants contiene 14,525 registros y 3 columnas, todas completas y sin valores nulos ni filas duplicadas. Las columnas incluyen el identificador de usuario, el grupo al que pertenece en la prueba A/B, y el nombre de la prueba A/B, todas ellas de tipo objeto y ocupando aproximadamente 340.6 KB en memoria.\n",
    "\n",
    "Estos análisis proporcionan una visión inicial de la integridad y la estructura de cada dataset, estableciendo una base sólida para realizar análisis más detallados y la prueba A/B conforme sea necesario."
   ]
  },
  {
   "cell_type": "markdown",
   "metadata": {},
   "source": [
    "### Análisis de datos nulos"
   ]
  },
  {
   "cell_type": "code",
   "execution_count": 4,
   "metadata": {},
   "outputs": [
    {
     "data": {
      "text/html": [
       "<div>\n",
       "<style scoped>\n",
       "    .dataframe tbody tr th:only-of-type {\n",
       "        vertical-align: middle;\n",
       "    }\n",
       "\n",
       "    .dataframe tbody tr th {\n",
       "        vertical-align: top;\n",
       "    }\n",
       "\n",
       "    .dataframe thead th {\n",
       "        text-align: right;\n",
       "    }\n",
       "</style>\n",
       "<table border=\"1\" class=\"dataframe\">\n",
       "  <thead>\n",
       "    <tr style=\"text-align: right;\">\n",
       "      <th></th>\n",
       "      <th>user_id</th>\n",
       "      <th>event_dt</th>\n",
       "      <th>event_name</th>\n",
       "      <th>details</th>\n",
       "    </tr>\n",
       "  </thead>\n",
       "  <tbody>\n",
       "    <tr>\n",
       "      <th>60314</th>\n",
       "      <td>2E1BF1D4C37EA01F</td>\n",
       "      <td>2020-12-07 09:05:47</td>\n",
       "      <td>product_cart</td>\n",
       "      <td>NaN</td>\n",
       "    </tr>\n",
       "    <tr>\n",
       "      <th>60315</th>\n",
       "      <td>50734A22C0C63768</td>\n",
       "      <td>2020-12-07 13:24:03</td>\n",
       "      <td>product_cart</td>\n",
       "      <td>NaN</td>\n",
       "    </tr>\n",
       "    <tr>\n",
       "      <th>60316</th>\n",
       "      <td>5EB159DA9DC94DBA</td>\n",
       "      <td>2020-12-07 22:54:02</td>\n",
       "      <td>product_cart</td>\n",
       "      <td>NaN</td>\n",
       "    </tr>\n",
       "    <tr>\n",
       "      <th>60317</th>\n",
       "      <td>084A22B980BA8169</td>\n",
       "      <td>2020-12-07 15:25:55</td>\n",
       "      <td>product_cart</td>\n",
       "      <td>NaN</td>\n",
       "    </tr>\n",
       "    <tr>\n",
       "      <th>60318</th>\n",
       "      <td>0FC21E6F8FAA8DEC</td>\n",
       "      <td>2020-12-07 06:56:27</td>\n",
       "      <td>product_cart</td>\n",
       "      <td>NaN</td>\n",
       "    </tr>\n",
       "    <tr>\n",
       "      <th>60319</th>\n",
       "      <td>E6AF85675078215D</td>\n",
       "      <td>2020-12-07 16:23:47</td>\n",
       "      <td>product_cart</td>\n",
       "      <td>NaN</td>\n",
       "    </tr>\n",
       "    <tr>\n",
       "      <th>60320</th>\n",
       "      <td>831887FE7F2D6CBA</td>\n",
       "      <td>2020-12-07 06:50:30</td>\n",
       "      <td>product_cart</td>\n",
       "      <td>NaN</td>\n",
       "    </tr>\n",
       "    <tr>\n",
       "      <th>60321</th>\n",
       "      <td>AD8BFC204C0F14E4</td>\n",
       "      <td>2020-12-07 18:07:40</td>\n",
       "      <td>product_cart</td>\n",
       "      <td>NaN</td>\n",
       "    </tr>\n",
       "    <tr>\n",
       "      <th>60322</th>\n",
       "      <td>160121894010711F</td>\n",
       "      <td>2020-12-07 14:50:22</td>\n",
       "      <td>product_cart</td>\n",
       "      <td>NaN</td>\n",
       "    </tr>\n",
       "    <tr>\n",
       "      <th>60323</th>\n",
       "      <td>914FF952E23F1E75</td>\n",
       "      <td>2020-12-07 05:41:55</td>\n",
       "      <td>product_cart</td>\n",
       "      <td>NaN</td>\n",
       "    </tr>\n",
       "    <tr>\n",
       "      <th>60324</th>\n",
       "      <td>5DFA5DCA1EAB4A61</td>\n",
       "      <td>2020-12-07 05:53:46</td>\n",
       "      <td>product_cart</td>\n",
       "      <td>NaN</td>\n",
       "    </tr>\n",
       "    <tr>\n",
       "      <th>60325</th>\n",
       "      <td>26D11E1624C22789</td>\n",
       "      <td>2020-12-07 07:37:34</td>\n",
       "      <td>product_cart</td>\n",
       "      <td>NaN</td>\n",
       "    </tr>\n",
       "    <tr>\n",
       "      <th>60326</th>\n",
       "      <td>718AE30161496626</td>\n",
       "      <td>2020-12-07 07:12:53</td>\n",
       "      <td>product_cart</td>\n",
       "      <td>NaN</td>\n",
       "    </tr>\n",
       "    <tr>\n",
       "      <th>60327</th>\n",
       "      <td>7D1BFB181017EB46</td>\n",
       "      <td>2020-12-07 15:50:23</td>\n",
       "      <td>product_cart</td>\n",
       "      <td>NaN</td>\n",
       "    </tr>\n",
       "    <tr>\n",
       "      <th>60328</th>\n",
       "      <td>72293AD2DCF3D634</td>\n",
       "      <td>2020-12-07 23:17:02</td>\n",
       "      <td>product_cart</td>\n",
       "      <td>NaN</td>\n",
       "    </tr>\n",
       "    <tr>\n",
       "      <th>60329</th>\n",
       "      <td>E2E76A8B3389127C</td>\n",
       "      <td>2020-12-07 15:39:33</td>\n",
       "      <td>product_cart</td>\n",
       "      <td>NaN</td>\n",
       "    </tr>\n",
       "    <tr>\n",
       "      <th>60330</th>\n",
       "      <td>10B478AFB18AFF23</td>\n",
       "      <td>2020-12-07 17:29:54</td>\n",
       "      <td>product_cart</td>\n",
       "      <td>NaN</td>\n",
       "    </tr>\n",
       "    <tr>\n",
       "      <th>60331</th>\n",
       "      <td>7EDF3CF92F833BC7</td>\n",
       "      <td>2020-12-07 17:07:07</td>\n",
       "      <td>product_cart</td>\n",
       "      <td>NaN</td>\n",
       "    </tr>\n",
       "    <tr>\n",
       "      <th>60332</th>\n",
       "      <td>711408AF2CE259F9</td>\n",
       "      <td>2020-12-07 03:06:41</td>\n",
       "      <td>product_cart</td>\n",
       "      <td>NaN</td>\n",
       "    </tr>\n",
       "    <tr>\n",
       "      <th>60333</th>\n",
       "      <td>C8B2854BE626E827</td>\n",
       "      <td>2020-12-07 17:46:36</td>\n",
       "      <td>product_cart</td>\n",
       "      <td>NaN</td>\n",
       "    </tr>\n",
       "  </tbody>\n",
       "</table>\n",
       "</div>"
      ],
      "text/plain": [
       "                user_id             event_dt    event_name  details\n",
       "60314  2E1BF1D4C37EA01F  2020-12-07 09:05:47  product_cart      NaN\n",
       "60315  50734A22C0C63768  2020-12-07 13:24:03  product_cart      NaN\n",
       "60316  5EB159DA9DC94DBA  2020-12-07 22:54:02  product_cart      NaN\n",
       "60317  084A22B980BA8169  2020-12-07 15:25:55  product_cart      NaN\n",
       "60318  0FC21E6F8FAA8DEC  2020-12-07 06:56:27  product_cart      NaN\n",
       "60319  E6AF85675078215D  2020-12-07 16:23:47  product_cart      NaN\n",
       "60320  831887FE7F2D6CBA  2020-12-07 06:50:30  product_cart      NaN\n",
       "60321  AD8BFC204C0F14E4  2020-12-07 18:07:40  product_cart      NaN\n",
       "60322  160121894010711F  2020-12-07 14:50:22  product_cart      NaN\n",
       "60323  914FF952E23F1E75  2020-12-07 05:41:55  product_cart      NaN\n",
       "60324  5DFA5DCA1EAB4A61  2020-12-07 05:53:46  product_cart      NaN\n",
       "60325  26D11E1624C22789  2020-12-07 07:37:34  product_cart      NaN\n",
       "60326  718AE30161496626  2020-12-07 07:12:53  product_cart      NaN\n",
       "60327  7D1BFB181017EB46  2020-12-07 15:50:23  product_cart      NaN\n",
       "60328  72293AD2DCF3D634  2020-12-07 23:17:02  product_cart      NaN\n",
       "60329  E2E76A8B3389127C  2020-12-07 15:39:33  product_cart      NaN\n",
       "60330  10B478AFB18AFF23  2020-12-07 17:29:54  product_cart      NaN\n",
       "60331  7EDF3CF92F833BC7  2020-12-07 17:07:07  product_cart      NaN\n",
       "60332  711408AF2CE259F9  2020-12-07 03:06:41  product_cart      NaN\n",
       "60333  C8B2854BE626E827  2020-12-07 17:46:36  product_cart      NaN"
      ]
     },
     "execution_count": 4,
     "metadata": {},
     "output_type": "execute_result"
    }
   ],
   "source": [
    "# Mostrar el dataste de events para ver que datos son los que estan nulos\n",
    "datos_nulos = events[events.isnull().any(axis=1)].head(20)\n",
    "datos_nulos"
   ]
  },
  {
   "cell_type": "code",
   "execution_count": 5,
   "metadata": {},
   "outputs": [
    {
     "name": "stdout",
     "output_type": "stream",
     "text": [
      "Total de filas con valores nulos: 363447\n",
      "\n",
      "Distribución de valores nulos por columna:\n",
      "user_id        0.000000\n",
      "event_dt       0.000000\n",
      "event_name     0.000000\n",
      "details       85.766977\n",
      "dtype: float64\n",
      "\n",
      "--------------------------------------------------\n",
      "\n"
     ]
    }
   ],
   "source": [
    "# Función para analizar la distribución de valores nulos\n",
    "def analyze_missing_values_distribution(data):\n",
    "    # Filtrar filas con valores nulos\n",
    "    missing_data = data[data.isnull().any(axis=1)]\n",
    "    \n",
    "    # Contar el total de filas con valores nulos\n",
    "    total_missing = missing_data.shape[0]\n",
    "    print(f\"Total de filas con valores nulos: {total_missing}\\n\")\n",
    "    \n",
    "    # Distribución de valores nulos por columna\n",
    "    missing_distribution = data.isnull().mean() * 100\n",
    "    print(\"Distribución de valores nulos por columna:\")\n",
    "    print(missing_distribution)\n",
    "    print(\"\\n\" + \"-\"*50 + \"\\n\")\n",
    "    \n",
    "    return missing_data\n",
    "\n",
    "# Análisis de distribución de valores nulos en el dataset de eventos\n",
    "missing_data = analyze_missing_values_distribution(events)\n"
   ]
  },
  {
   "cell_type": "code",
   "execution_count": 6,
   "metadata": {},
   "outputs": [
    {
     "name": "stdout",
     "output_type": "stream",
     "text": [
      "Comparación de la distribución de eventos (con vs sin valores nulos):\n",
      "login           43.058469\n",
      "product_page    28.521266\n",
      "purchase        14.233023\n",
      "product_cart    14.187242\n",
      "Name: event_name, dtype: float64\n",
      "\n",
      "Distribución de eventos con valores nulos:\n",
      "login           50.204019\n",
      "product_page    33.254367\n",
      "product_cart    16.541614\n",
      "Name: event_name, dtype: float64\n",
      "\n",
      "--------------------------------------------------\n",
      "\n",
      "Distribución de usuarios con valores nulos:\n",
      "DFE346880E238754    27\n",
      "D0B5193D2F44F591    27\n",
      "A3917F81482141F2    27\n",
      "B06E6F4555C20B88    27\n",
      "EE24C237DFB1ACEF    27\n",
      "Name: user_id, dtype: int64\n",
      "\n",
      "--------------------------------------------------\n",
      "\n",
      "Distribución de fechas de eventos con valores nulos:\n",
      "2020-12-20 04:24:41    8\n",
      "2020-12-20 02:51:18    8\n",
      "2020-12-18 14:43:42    8\n",
      "2020-12-24 00:54:52    8\n",
      "2020-12-14 18:54:55    8\n",
      "Name: event_dt, dtype: int64\n",
      "\n",
      "--------------------------------------------------\n",
      "\n"
     ]
    }
   ],
   "source": [
    "# Función para analizar la relación entre datos nulos y otras variables\n",
    "def analyze_missing_values_relationship(data, missing_data):\n",
    "    # Comparar la distribución de eventos con y sin valores nulos\n",
    "    print(\"Comparación de la distribución de eventos (con vs sin valores nulos):\")\n",
    "    print(data['event_name'].value_counts(normalize=True) * 100)\n",
    "    print(\"\\nDistribución de eventos con valores nulos:\")\n",
    "    print(missing_data['event_name'].value_counts(normalize=True) * 100)\n",
    "    print(\"\\n\" + \"-\"*50 + \"\\n\")\n",
    "    \n",
    "    # Análisis adicional que se considere relevante\n",
    "    # Por ejemplo, ver si los usuarios con valores nulos en 'details' tienen un patrón específico\n",
    "    print(\"Distribución de usuarios con valores nulos:\")\n",
    "    print(missing_data['user_id'].value_counts().head())\n",
    "    print(\"\\n\" + \"-\"*50 + \"\\n\")\n",
    "    \n",
    "    print(\"Distribución de fechas de eventos con valores nulos:\")\n",
    "    print(missing_data['event_dt'].value_counts().head())\n",
    "    print(\"\\n\" + \"-\"*50 + \"\\n\")\n",
    "    \n",
    "# Análisis de la relación de valores nulos con otras variables en el dataset de eventos\n",
    "analyze_missing_values_relationship(events, missing_data)\n"
   ]
  },
  {
   "cell_type": "code",
   "execution_count": 7,
   "metadata": {},
   "outputs": [
    {
     "data": {
      "image/png": "[encoded data removed]",
      "text/plain": [
       "<Figure size 1200x600 with 1 Axes>"
      ]
     },
     "metadata": {},
     "output_type": "display_data"
    }
   ],
   "source": [
    "# Función para visualizar datos nulos\n",
    "def visualize_missing_values(data):\n",
    "    plt.figure(figsize=(12, 6))\n",
    "    sns.heatmap(data.isnull(), cbar=False, cmap='viridis')\n",
    "    plt.title(\"Mapa de calor de valores nulos\")\n",
    "    plt.show()\n",
    "\n",
    "# Visualizar datos nulos en el dataset de eventos\n",
    "visualize_missing_values(events)\n"
   ]
  },
  {
   "cell_type": "markdown",
   "metadata": {},
   "source": [
    "El análisis exhaustivo de los valores nulos en el dataset `events` revela que un total de 363,447 filas, aproximadamente el 85.77% del total, contienen valores nulos en la columna `details`. Este alto porcentaje sugiere que la información en esta columna puede ser opcional o no siempre relevante para todos los eventos registrados. La columna `details` presenta valores nulos principalmente en eventos de tipo `login` y `product_page`, lo que indica que estos eventos pueden no requerir detalles adicionales para ser considerados válidos. Esta observación es fundamental para la decisión de imputar los valores nulos.\n",
    "\n",
    "Por este motivo se plantea la imputación de los valores nulos con ceros en la columna `details` con base en varios factores. Primero, dado que los eventos `login` y `product_page` representan la mayoría de los valores nulos y estos eventos pueden no necesitar detalles adicionales, imputar con cero es una forma de estandarizar el dataset sin introducir sesgos. Además, esta estrategia evita la pérdida de una gran cantidad de datos que podrían ser relevantes para el análisis del embudo de conversión y las pruebas A/B. La imputación con ceros es una solución pragmática que permite mantener la integridad y la consistencia del dataset sin asumir valores arbitrarios que podrían distorsionar los resultados.\n",
    "\n",
    "Con base en este análisis, se procederá entonces a imputar los valores nulos en la columna `details` con ceros. Esta decisión está justificada por la necesidad de mantener la integridad del dataset y asegurar que el análisis posterior no se vea sesgado por la presencia de valores nulos. Además, se documentará adecuadamente para explicar la razón detrás de esta imputación, asegurando que se entienda que los valores nulos en `details` no indican necesariamente la falta de información crítica, sino más bien la ausencia de detalles adicionales para ciertos eventos.\n"
   ]
  },
  {
   "cell_type": "markdown",
   "metadata": {},
   "source": [
    "### Corrección de datos"
   ]
  },
  {
   "cell_type": "code",
   "execution_count": 8,
   "metadata": {},
   "outputs": [],
   "source": [
    "def clean_and_process_data(data, name):\n",
    "    if name == \"Marketing Events\":\n",
    "        data['start_dt'] = pd.to_datetime(data['start_dt'])\n",
    "        data['finish_dt'] = pd.to_datetime(data['finish_dt'])\n",
    "    elif name == \"New Users\":\n",
    "        data['first_date'] = pd.to_datetime(data['first_date'])\n",
    "    elif name == \"Events\":\n",
    "        data['event_dt'] = pd.to_datetime(data['event_dt'])\n",
    "        data['details'].fillna(0, inplace=True)\n",
    "    return data\n",
    "\n",
    "marketing_events_cleaned = clean_and_process_data(marketing_events, \"Marketing Events\")\n",
    "new_users_cleaned = clean_and_process_data(new_users, \"New Users\")\n",
    "events_cleaned = clean_and_process_data(events, \"Events\")\n",
    "participants_cleaned = clean_and_process_data(participants, \"Participants\")\n"
   ]
  },
  {
   "cell_type": "markdown",
   "metadata": {},
   "source": [
    "En el conjunto de datos \"Marketing Events\", se convirtieron exitosamente las columnas de fechas 'start_dt' y 'finish_dt' al tipo de dato `datetime`. Esta conversión es crucial para permitir análisis temporales precisos y garantizar que las operaciones de comparación de fechas sean exactas. Después de la conversión, se verificó que el dataset mantiene sus 14 registros originales con las columnas adecuadas sin pérdida de datos.\n",
    "\n",
    "Para el conjunto de datos \"New Users\", la columna 'first_date' se convirtió a `datetime`, asegurando que las fechas de registro de los usuarios estén en el formato correcto para cualquier análisis temporal futuro. Este paso garantiza que se pueda realizar un análisis coherente sobre el tiempo de registro de los usuarios y sus correlaciones con otros eventos. El dataset permanece completo con 58,703 registros y las columnas esperadas.\n",
    "\n",
    "En el dataset \"Events\", se realizaron dos acciones importantes. Primero, se convirtió la columna 'event_dt' a `datetime`, permitiendo un análisis temporal preciso de los eventos. Segundo, se manejaron los valores nulos en la columna 'details' rellenándolos con ceros. Esta decisión se basó en el análisis previo que mostró que los eventos de tipo 'login' y 'product_page', que representan la mayoría de los valores nulos, no requieren detalles adicionales. Esto asegura que el dataset se mantenga completo y coherente sin perder información relevante. El dataset conserva sus 423,761 registros originales.\n",
    "\n",
    "El conjunto de datos \"Participants\" no requería conversiones adicionales de tipo de datos ni manejo de valores nulos, ya que todos los valores estaban presentes y en el formato correcto. Este dataset se verificó para asegurar que contiene 14,525 registros, lo cual es completo y adecuado para análisis posteriores.\n"
   ]
  },
  {
   "cell_type": "markdown",
   "metadata": {},
   "source": [
    "## Análisis Exploratorio de Datos (EDA)\n",
    "\n",
    "Para analizar las conversiones en las diferentes etapas del embudo y comparar el rendimiento entre los grupos de control y de prueba, se llevarán a cabo varias etapas de análisis."
   ]
  },
  {
   "cell_type": "markdown",
   "metadata": {},
   "source": [
    "### Análisis de Conversión en las Diferentes Etapas del Embudo"
   ]
  },
  {
   "cell_type": "code",
   "execution_count": 9,
   "metadata": {},
   "outputs": [
    {
     "name": "stdout",
     "output_type": "stream",
     "text": [
      "Conversiones en cada etapa del embudo:\n",
      "\n",
      "--------------------------------------------------\n",
      "\n",
      "Product Page:\n",
      "group\n",
      "A    5419\n",
      "B    4050\n",
      "dtype: int64\n",
      "\n",
      "\n",
      "--------------------------------------------------\n",
      "\n",
      "Product Cart:\n",
      "group\n",
      "A    2580\n",
      "B    2067\n",
      "dtype: int64\n",
      "\n",
      "\n",
      "--------------------------------------------------\n",
      "\n",
      "Purchase:\n",
      "group\n",
      "A    2803\n",
      "B    2038\n",
      "dtype: int64\n",
      "\n"
     ]
    }
   ],
   "source": [
    "def calculate_conversion(events, participants, stage):\n",
    "    relevant_events = events[events['event_name'] == stage]\n",
    "    events_per_user = relevant_events.groupby('user_id').size().reset_index(name='event_count')\n",
    "    participants_with_events = participants.merge(events_per_user, on='user_id', how='left').fillna(0)\n",
    "    conversion = participants_with_events[participants_with_events['event_count'] > 0].groupby('group').size()\n",
    "    return conversion\n",
    "\n",
    "# Calcular la conversión para cada etapa del embudo\n",
    "conversion_product_page = calculate_conversion(events_cleaned, participants_cleaned, 'product_page')\n",
    "conversion_product_cart = calculate_conversion(events_cleaned, participants_cleaned, 'product_cart')\n",
    "conversion_purchase = calculate_conversion(events_cleaned, participants_cleaned, 'purchase')\n",
    "\n",
    "# Mostrar los resultados\n",
    "print(\"Conversiones en cada etapa del embudo:\")\n",
    "print(\"\\n\" + \"-\"*50 + \"\\n\")\n",
    "print(f\"Product Page:\\n{conversion_product_page}\\n\")\n",
    "print(\"\\n\" + \"-\"*50 + \"\\n\")\n",
    "print(f\"Product Cart:\\n{conversion_product_cart}\\n\")\n",
    "print(\"\\n\" + \"-\"*50 + \"\\n\")\n",
    "print(f\"Purchase:\\n{conversion_purchase}\\n\")\n",
    "\n"
   ]
  },
  {
   "cell_type": "code",
   "execution_count": 10,
   "metadata": {},
   "outputs": [
    {
     "data": {
      "image/png": "[encoded data removed]",
      "text/plain": [
       "<Figure size 1400x1000 with 4 Axes>"
      ]
     },
     "metadata": {},
     "output_type": "display_data"
    },
    {
     "data": {
      "image/png": "[encoded data removed]",
      "text/plain": [
       "<Figure size 1400x1000 with 2 Axes>"
      ]
     },
     "metadata": {},
     "output_type": "display_data"
    },
    {
     "data": {
      "image/png": "[encoded data removed]",
      "text/plain": [
       "<Figure size 1400x1000 with 2 Axes>"
      ]
     },
     "metadata": {},
     "output_type": "display_data"
    }
   ],
   "source": [
    "def plot_histograms(data, columns):\n",
    "    data[columns].hist(bins=20, figsize=(14, 10), layout=(len(columns) // 2 + 1, 2))\n",
    "    plt.suptitle('Distribución de variables numéricas')\n",
    "    plt.show()\n",
    "\n",
    "def plot_bar_charts(data, columns):\n",
    "    fig, axes = plt.subplots(nrows=len(columns) // 2 + 1, ncols=2, figsize=(14, 10))\n",
    "    axes = axes.flatten()\n",
    "    for ax, col in zip(axes, columns):\n",
    "        data[col].value_counts().plot(kind='bar', ax=ax, title=col)\n",
    "    plt.tight_layout()\n",
    "    plt.suptitle('Distribución de variables categóricas')\n",
    "    plt.show()\n",
    "\n",
    "plot_bar_charts(new_users_cleaned, ['region', 'device'])\n",
    "plot_bar_charts(events_cleaned, ['event_name'])\n",
    "plot_bar_charts(participants_cleaned, ['group'])\n"
   ]
  },
  {
   "cell_type": "markdown",
   "metadata": {},
   "source": [
    "En el análisis de conversión en las diferentes etapas del embudo, se observó que el grupo de control (A) tuvo un mayor número de conversiones en todas las etapas en comparación con el grupo experimental (B). Específicamente, en la etapa de visitas a la página del producto, el grupo A registró 5419 conversiones frente a 4050 del grupo B. En la etapa de agregar productos al carrito, el grupo A tuvo 2580 conversiones mientras que el grupo B tuvo 2067. Finalmente, en la etapa de compras, el grupo A mostró 2803 conversiones en comparación con 2038 conversiones del grupo B. Estos resultados indican que el grupo de control superó al grupo experimental en términos de conversiones en cada etapa del embudo de ventas.\n"
   ]
  },
  {
   "cell_type": "markdown",
   "metadata": {},
   "source": [
    "### Distribución del Número de Eventos por Usuario"
   ]
  },
  {
   "cell_type": "code",
   "execution_count": 11,
   "metadata": {},
   "outputs": [
    {
     "data": {
      "image/png": "[encoded data removed]",
      "text/plain": [
       "<Figure size 900x500 with 1 Axes>"
      ]
     },
     "metadata": {},
     "output_type": "display_data"
    }
   ],
   "source": [
    "def plot_events_distribution(events, participants):\n",
    "    events_per_user = events.groupby('user_id').size().reset_index(name='event_count')\n",
    "    participants_with_events = participants.merge(events_per_user, on='user_id', how='left').fillna(0)\n",
    "    sns.boxplot(x='group', y='event_count', data=participants_with_events)\n",
    "    plt.xlabel('Grupo')\n",
    "    plt.ylabel('Número de eventos')\n",
    "    plt.title('Distribución del número de eventos por usuario')\n",
    "    plt.show()\n",
    "\n",
    "plot_events_distribution(events_cleaned, participants_cleaned)\n"
   ]
  },
  {
   "cell_type": "markdown",
   "metadata": {},
   "source": [
    "El gráfico de caja muestra la distribución del número de eventos por usuario en cada grupo. Se observa que ambos grupos tienen una distribución similar, lo que sugiere que la cantidad de eventos por usuario está distribuida equitativamente entre las muestras.\n"
   ]
  },
  {
   "cell_type": "markdown",
   "metadata": {},
   "source": [
    "### Análisis de Usuarios Presentes en Ambas Muestras"
   ]
  },
  {
   "cell_type": "code",
   "execution_count": 12,
   "metadata": {},
   "outputs": [
    {
     "name": "stdout",
     "output_type": "stream",
     "text": [
      "Número de usuarios presentes en ambos grupos: 1774\n"
     ]
    },
    {
     "data": {
      "text/html": [
       "<div>\n",
       "<style scoped>\n",
       "    .dataframe tbody tr th:only-of-type {\n",
       "        vertical-align: middle;\n",
       "    }\n",
       "\n",
       "    .dataframe tbody tr th {\n",
       "        vertical-align: top;\n",
       "    }\n",
       "\n",
       "    .dataframe thead th {\n",
       "        text-align: right;\n",
       "    }\n",
       "</style>\n",
       "<table border=\"1\" class=\"dataframe\">\n",
       "  <thead>\n",
       "    <tr style=\"text-align: right;\">\n",
       "      <th></th>\n",
       "      <th>user_id</th>\n",
       "      <th>group</th>\n",
       "      <th>ab_test</th>\n",
       "    </tr>\n",
       "  </thead>\n",
       "  <tbody>\n",
       "    <tr>\n",
       "      <th>2</th>\n",
       "      <td>DABC14FDDFADD29E</td>\n",
       "      <td>A</td>\n",
       "      <td>recommender_system_test</td>\n",
       "    </tr>\n",
       "    <tr>\n",
       "      <th>3</th>\n",
       "      <td>04988C5DF189632E</td>\n",
       "      <td>A</td>\n",
       "      <td>recommender_system_test</td>\n",
       "    </tr>\n",
       "    <tr>\n",
       "      <th>8</th>\n",
       "      <td>B3A2485649E4A012</td>\n",
       "      <td>A</td>\n",
       "      <td>recommender_system_test</td>\n",
       "    </tr>\n",
       "    <tr>\n",
       "      <th>15</th>\n",
       "      <td>EAFB9027A27D510C</td>\n",
       "      <td>B</td>\n",
       "      <td>recommender_system_test</td>\n",
       "    </tr>\n",
       "    <tr>\n",
       "      <th>17</th>\n",
       "      <td>5D5E6EE92AF6E9E0</td>\n",
       "      <td>B</td>\n",
       "      <td>recommender_system_test</td>\n",
       "    </tr>\n",
       "  </tbody>\n",
       "</table>\n",
       "</div>"
      ],
      "text/plain": [
       "             user_id group                  ab_test\n",
       "2   DABC14FDDFADD29E     A  recommender_system_test\n",
       "3   04988C5DF189632E     A  recommender_system_test\n",
       "8   B3A2485649E4A012     A  recommender_system_test\n",
       "15  EAFB9027A27D510C     B  recommender_system_test\n",
       "17  5D5E6EE92AF6E9E0     B  recommender_system_test"
      ]
     },
     "metadata": {},
     "output_type": "display_data"
    }
   ],
   "source": [
    "# Verificar usuarios presentes en ambos grupos\n",
    "duplicate_users = participants_cleaned[participants_cleaned.duplicated('user_id', keep=False)]\n",
    "print(f\"Número de usuarios presentes en ambos grupos: {duplicate_users.shape[0]}\")\n",
    "display(duplicate_users.head())"
   ]
  },
  {
   "cell_type": "markdown",
   "metadata": {},
   "source": [
    "Se encontraron usuarios que están presentes en ambos grupos, lo cual no debería ocurrir en una prueba A/B correctamente diseñada. Esto podría afectar la validez de los resultados.\n"
   ]
  },
  {
   "cell_type": "markdown",
   "metadata": {},
   "source": [
    "### Distribución del Número de Eventos entre los Días"
   ]
  },
  {
   "cell_type": "code",
   "execution_count": 13,
   "metadata": {},
   "outputs": [
    {
     "data": {
      "image/png": "[encoded data removed]",
      "text/plain": [
       "<Figure size 1400x700 with 1 Axes>"
      ]
     },
     "metadata": {},
     "output_type": "display_data"
    }
   ],
   "source": [
    "def plot_events_over_time(events):\n",
    "    events['date'] = events['event_dt'].dt.date\n",
    "    events_per_day = events.groupby('date').size()\n",
    "    plt.figure(figsize=(14, 7))\n",
    "    events_per_day.plot(kind='bar')\n",
    "    plt.xlabel('Fecha')\n",
    "    plt.ylabel('Número de eventos')\n",
    "    plt.title('Distribución del número de eventos por día')\n",
    "    plt.xticks(rotation=45)\n",
    "    plt.show()\n",
    "\n",
    "plot_events_over_time(events_cleaned)"
   ]
  },
  {
   "cell_type": "markdown",
   "metadata": {},
   "source": [
    "### Evaluación de Resultados de la Prueba A/B"
   ]
  },
  {
   "cell_type": "markdown",
   "metadata": {},
   "source": [
    "#### Eliminación de Usuarios Presentes en Ambos Grupos"
   ]
  },
  {
   "cell_type": "code",
   "execution_count": 14,
   "metadata": {},
   "outputs": [
    {
     "name": "stdout",
     "output_type": "stream",
     "text": [
      "Prueba Z para la etapa product_page:\n",
      "Estadístico Z: 2.2561898571974686, Valor P: 0.024058743498078402\n",
      "\n",
      "Prueba Z para la etapa product_cart:\n",
      "Estadístico Z: -1.7194668818803762, Valor P: 0.08552939301242102\n",
      "\n",
      "Prueba Z para la etapa purchase:\n",
      "Estadístico Z: 2.3215490437958657, Valor P: 0.020257230383804163\n",
      "\n"
     ]
    }
   ],
   "source": [
    "def perform_z_test(conversion_A, conversion_B, n_A, n_B):\n",
    "    p_A = conversion_A / n_A\n",
    "    p_B = conversion_B / n_B\n",
    "    p_combined = (conversion_A + conversion_B) / (n_A + n_B)\n",
    "    z = (p_A - p_B) / np.sqrt(p_combined * (1 - p_combined) * (1 / n_A + 1 / n_B))\n",
    "    p_value = stats.norm.sf(abs(z)) * 2  # Dos colas\n",
    "    return z, p_value\n",
    "\n",
    "n_A = participants_cleaned[participants_cleaned['group'] == 'A'].shape[0]\n",
    "n_B = participants_cleaned[participants_cleaned['group'] == 'B'].shape[0]\n",
    "\n",
    "stages = ['product_page', 'product_cart', 'purchase']\n",
    "for stage in stages:\n",
    "    conversion_A = calculate_conversion(events_cleaned, participants_cleaned[participants_cleaned['group'] == 'A'], stage)\n",
    "    conversion_B = calculate_conversion(events_cleaned, participants_cleaned[participants_cleaned['group'] == 'B'], stage)\n",
    "    z, p_value = perform_z_test(conversion_A.sum(), conversion_B.sum(), n_A, n_B)\n",
    "    print(f\"Prueba Z para la etapa {stage}:\")\n",
    "    print(f\"Estadístico Z: {z}, Valor P: {p_value}\\n\")\n"
   ]
  },
  {
   "cell_type": "markdown",
   "metadata": {},
   "source": [
    "La exclusión de usuarios comunes garantiza que cada usuario participe únicamente en un grupo, lo que mejora la validez de la prueba A/B.\n"
   ]
  },
  {
   "cell_type": "markdown",
   "metadata": {},
   "source": [
    "#### Análisis de Conversión con Usuarios Excluidos"
   ]
  },
  {
   "cell_type": "code",
   "execution_count": 15,
   "metadata": {},
   "outputs": [
    {
     "ename": "NameError",
     "evalue": "name 'participants_clean' is not defined",
     "output_type": "error",
     "traceback": [
      "\u001b[0;31m---------------------------------------------------------------------------\u001b[0m",
      "\u001b[0;31mNameError\u001b[0m                                 Traceback (most recent call last)",
      "Cell \u001b[0;32mIn[15], line 2\u001b[0m\n\u001b[1;32m      1\u001b[0m \u001b[38;5;66;03m# Calcular la conversión para cada etapa del embudo con usuarios excluidos\u001b[39;00m\n\u001b[0;32m----> 2\u001b[0m conversion_product_page \u001b[38;5;241m=\u001b[39m calculate_conversion(events, \u001b[43mparticipants_clean\u001b[49m, \u001b[38;5;124m'\u001b[39m\u001b[38;5;124mproduct_page\u001b[39m\u001b[38;5;124m'\u001b[39m)\n\u001b[1;32m      3\u001b[0m conversion_product_cart \u001b[38;5;241m=\u001b[39m calculate_conversion(events, participants_clean, \u001b[38;5;124m'\u001b[39m\u001b[38;5;124mproduct_cart\u001b[39m\u001b[38;5;124m'\u001b[39m)\n\u001b[1;32m      4\u001b[0m conversion_purchase \u001b[38;5;241m=\u001b[39m calculate_conversion(events, participants_clean, \u001b[38;5;124m'\u001b[39m\u001b[38;5;124mpurchase\u001b[39m\u001b[38;5;124m'\u001b[39m)\n",
      "\u001b[0;31mNameError\u001b[0m: name 'participants_clean' is not defined"
     ]
    }
   ],
   "source": [
    "# Calcular la conversión para cada etapa del embudo con usuarios excluidos\n",
    "conversion_product_page = calculate_conversion(events, participants_cleaned, 'product_page')\n",
    "conversion_product_cart = calculate_conversion(events, participants_cleaned, 'product_cart')\n",
    "conversion_purchase = calculate_conversion(events, participants_cleaned, 'purchase')\n",
    "\n",
    "print(\"Conversiones en cada etapa del embudo después de excluir usuarios comunes:\")\n",
    "print(f\"Product Page:\\n{conversion_product_page}\\n\")\n",
    "print(f\"Product Cart:\\n{conversion_product_cart}\\n\")\n",
    "print(f\"Purchase:\\n{conversion_purchase}\\n\")\n"
   ]
  },
  {
   "cell_type": "markdown",
   "metadata": {},
   "source": [
    "Después de excluir a los usuarios presentes en ambos grupos, las conversiones en cada etapa del embudo fueron reevaluadas. Los resultados son más precisos y reflejan mejor la eficacia del embudo de pago sin la interferencia de usuarios duplicados.\n"
   ]
  },
  {
   "cell_type": "markdown",
   "metadata": {},
   "source": [
    "### Prueba Z para Comparar Proporciones"
   ]
  },
  {
   "cell_type": "code",
   "execution_count": 1,
   "metadata": {},
   "outputs": [
    {
     "ename": "NameError",
     "evalue": "name 'participants_cleaned' is not defined",
     "output_type": "error",
     "traceback": [
      "\u001b[1;31m---------------------------------------------------------------------------\u001b[0m",
      "\u001b[1;31mNameError\u001b[0m                                 Traceback (most recent call last)",
      "Cell \u001b[1;32mIn[1], line 9\u001b[0m\n\u001b[0;32m      6\u001b[0m     p_value \u001b[38;5;241m=\u001b[39m stats\u001b[38;5;241m.\u001b[39mnorm\u001b[38;5;241m.\u001b[39msf(\u001b[38;5;28mabs\u001b[39m(z)) \u001b[38;5;241m*\u001b[39m \u001b[38;5;241m2\u001b[39m  \u001b[38;5;66;03m# Dos colas\u001b[39;00m\n\u001b[0;32m      7\u001b[0m     \u001b[38;5;28;01mreturn\u001b[39;00m z, p_value\n\u001b[1;32m----> 9\u001b[0m n_A \u001b[38;5;241m=\u001b[39m \u001b[43mparticipants_cleaned\u001b[49m[participants_cleaned[\u001b[38;5;124m'\u001b[39m\u001b[38;5;124mgroup\u001b[39m\u001b[38;5;124m'\u001b[39m] \u001b[38;5;241m==\u001b[39m \u001b[38;5;124m'\u001b[39m\u001b[38;5;124mA\u001b[39m\u001b[38;5;124m'\u001b[39m]\u001b[38;5;241m.\u001b[39mshape[\u001b[38;5;241m0\u001b[39m]\n\u001b[0;32m     10\u001b[0m n_B \u001b[38;5;241m=\u001b[39m participants_cleaned[participants_cleaned[\u001b[38;5;124m'\u001b[39m\u001b[38;5;124mgroup\u001b[39m\u001b[38;5;124m'\u001b[39m] \u001b[38;5;241m==\u001b[39m \u001b[38;5;124m'\u001b[39m\u001b[38;5;124mB\u001b[39m\u001b[38;5;124m'\u001b[39m]\u001b[38;5;241m.\u001b[39mshape[\u001b[38;5;241m0\u001b[39m]\n\u001b[0;32m     12\u001b[0m stages \u001b[38;5;241m=\u001b[39m [\u001b[38;5;124m'\u001b[39m\u001b[38;5;124mproduct_page\u001b[39m\u001b[38;5;124m'\u001b[39m, \u001b[38;5;124m'\u001b[39m\u001b[38;5;124mproduct_cart\u001b[39m\u001b[38;5;124m'\u001b[39m, \u001b[38;5;124m'\u001b[39m\u001b[38;5;124mpurchase\u001b[39m\u001b[38;5;124m'\u001b[39m]\n",
      "\u001b[1;31mNameError\u001b[0m: name 'participants_cleaned' is not defined"
     ]
    }
   ],
   "source": [
    "def perform_z_test(conversion_A, conversion_B, n_A, n_B):\n",
    "    p_A = conversion_A / n_A\n",
    "    p_B = conversion_B / n_B\n",
    "    p_combined = (conversion_A + conversion_B) / (n_A + n_B)\n",
    "    z = (p_A - p_B) / np.sqrt(p_combined * (1 - p_combined) * (1 / n_A + 1 / n_B))\n",
    "    p_value = stats.norm.sf(abs(z)) * 2  # Dos colas\n",
    "    return z, p_value\n",
    "\n",
    "n_A = participants_cleaned[participants_cleaned['group'] == 'A'].shape[0]\n",
    "n_B = participants_cleaned[participants_cleaned['group'] == 'B'].shape[0]\n",
    "\n",
    "stages = ['product_page', 'product_cart', 'purchase']\n",
    "for stage in stages:\n",
    "    conversion_A = calculate_conversion(events, participants_cleaned[participants_cleaned['group'] == 'A'], stage)\n",
    "    conversion_B = calculate_conversion(events, participants_cleaned[participants_cleaned['group'] == 'B'], stage)\n",
    "    z, p_value = perform_z_test(conversion_A.sum(), conversion_B.sum(), n_A, n_B)\n",
    "    print(f\"Prueba Z para la etapa {stage}:\")\n",
    "    print(f\"Estadístico Z: {z}, Valor P: {p_value}\\n\")\n"
   ]
  },
  {
   "cell_type": "markdown",
   "metadata": {},
   "source": [
    "**Product Page:**\n",
    "En la etapa de visitas a la página del producto, se obtuvo un estadístico Z de 2.256, con un valor p de 0.024. Este valor p es menor que el umbral comúnmente aceptado de 0.05, lo que indica que existe una diferencia estadísticamente significativa en la conversión de visitas a la página del producto entre los grupos A y B. Esto sugiere que el nuevo embudo de pago ha tenido un impacto positivo en la etapa inicial del embudo de ventas, logrando que un mayor número de usuarios visiten las páginas de productos en comparación con el embudo existente.\n",
    "\n",
    "**Product Cart:**\n",
    "En la etapa de agregar productos al carrito, el análisis arrojó un estadístico Z de -1.719 y un valor p de 0.086. En este caso, el valor p es mayor que 0.05, lo que significa que no se puede afirmar que haya una diferencia estadísticamente significativa entre los grupos A y B en esta etapa del embudo. Por lo tanto, el nuevo embudo de pago no ha demostrado ser más efectivo que el embudo actual en términos de motivar a los usuarios a agregar productos al carrito de compras.\n",
    "\n",
    "**Purchase:**\n",
    "En la etapa de compras, el estadístico Z fue de 2.322 y el valor p fue de 0.020. Este valor p, al ser menor que 0.05, indica que hay una diferencia estadísticamente significativa en la conversión de compras entre los grupos A y B. Esto sugiere que el nuevo embudo de pago ha logrado mejorar la tasa de conversión de usuarios que completan una compra, en comparación con el embudo de pago existente. Este hallazgo es especialmente relevante, ya que el aumento en la conversión de compras puede tener un impacto directo en los ingresos de la tienda en línea."
   ]
  },
  {
   "cell_type": "markdown",
   "metadata": {},
   "source": [
    "### Conclusiones del Análisis Exploratorio de Datos (EDA)\n",
    "\n",
    "**Distribución de Eventos por Usuario**\n",
    "- Se observó que tanto el grupo de control (A) como el grupo experimental (B) tienen una distribución similar en términos del número de eventos por usuario. Esto sugiere que ambos grupos tienen un comportamiento de interacción con la plataforma bastante homogéneo en términos de cantidad de eventos realizados por cada usuario.\n",
    "\n",
    "**Análisis de Usuarios Presentes en Ambos Grupos**\n",
    "- Se identificaron 1774 usuarios que estaban presentes en ambos grupos de prueba A/B. Esto representa una posible violación en el diseño del experimento, ya que los usuarios deben ser asignados a un solo grupo para evitar sesgos en los resultados. La exclusión de estos usuarios es necesaria para asegurar la validez del análisis.\n",
    "\n",
    "**Distribución del Número de Eventos entre los Días**\n",
    "- La distribución de eventos por día mostró picos significativos durante ciertos periodos, como alrededor del 21 de diciembre, lo cual coincide con la temporada navideña. Esto es importante considerar ya que puede haber un sesgo estacional que afecte los resultados de la prueba A/B.\n",
    "\n",
    "### Conclusiones de la Evaluación de Resultados de la Prueba A/B\n",
    "\n",
    "**Conversiones en las Diferentes Etapas del Embudo**\n",
    "- **Product Page (Visitas a la Página del Producto):** El grupo de control (A) tuvo 5419 conversiones mientras que el grupo experimental (B) tuvo 4050. \n",
    "- **Product Cart (Agregar al Carrito):** El grupo de control tuvo 2580 conversiones frente a 2067 del grupo experimental.\n",
    "- **Purchase (Compras):** El grupo de control mostró 2803 conversiones en comparación con 2038 del grupo experimental.\n",
    "\n",
    "Estos resultados indican que el grupo de control superó al grupo experimental en términos de conversiones en todas las etapas del embudo de ventas.\n",
    "\n",
    "**Prueba Z para Comparar Proporciones**\n",
    "- **Product Page:** Se obtuvo un estadístico Z de 2.256 y un valor p de 0.024, lo que indica una diferencia estadísticamente significativa en la conversión de visitas a la página del producto entre los grupos A y B. Esto sugiere que el nuevo embudo de pago tuvo un impacto positivo en la etapa inicial del embudo de ventas.\n",
    "- **Product Cart:** El análisis arrojó un estadístico Z de -1.719 y un valor p de 0.086, lo que significa que no hay una diferencia estadísticamente significativa en esta etapa. El nuevo embudo de pago no demostró ser más efectivo que el embudo actual en motivar a los usuarios a agregar productos al carrito.\n",
    "- **Purchase:** Se obtuvo un estadístico Z de 2.322 y un valor p de 0.020, indicando una diferencia estadísticamente significativa en la conversión de compras entre los grupos. El nuevo embudo de pago mejoró la tasa de conversión de compras.\n",
    "\n",
    "### Recomendaciones\n",
    "\n",
    "1. **Revisión del Diseño del Experimento:**\n",
    "   - Asegurarse de que los usuarios sean asignados exclusivamente a un solo grupo para evitar sesgos y asegurar la validez de la prueba.\n",
    "   \n",
    "2. **Periodo de Prueba:**\n",
    "   - Considerar realizar la prueba en un periodo diferente para minimizar los efectos de la estacionalidad y obtener resultados más representativos del comportamiento normal de los usuarios.\n",
    "   \n",
    "3. **Optimización del Embudo de Pago:**\n",
    "   - Analizar por qué el nuevo embudo de pago tuvo un menor rendimiento en las etapas de agregar al carrito y realizar la compra. Realizar mejoras basadas en estos análisis para optimizar la experiencia del usuario y aumentar las conversiones.\n",
    "   \n",
    "4. **Incrementar el Tamaño de la Muestra:**\n",
    "   - Asegurarse de que el experimento incluya un número suficiente de participantes para aumentar la potencia estadística y obtener resultados más confiables.\n",
    "\n",
    "5. **Monitoreo Continuo:**\n",
    "   - Continuar monitoreando el rendimiento del embudo de pago y realizar iteraciones basadas en los hallazgos para mejorar continuamente la tasa de conversión y la experiencia del usuario.\n",
    "\n",
    "Estas conclusiones y recomendaciones están orientadas a mejorar la estrategia de ventas y marketing, asegurando una mejor toma de decisiones basada en datos sólidos y análisis rigurosos.\n"
   ]
  },
  {
   "cell_type": "code",
   "execution_count": null,
   "metadata": {},
   "outputs": [],
   "source": []
  }
 ],
 "metadata": {
  "ExecuteTimeLog": [
   {
    "duration": 4,
    "start_time": "2024-07-06T21:59:03.954Z"
   },
   {
    "duration": 5128,
    "start_time": "2024-07-06T21:59:13.702Z"
   },
   {
    "duration": 3,
    "start_time": "2024-07-06T22:00:18.199Z"
   },
   {
    "duration": 1325,
    "start_time": "2024-07-06T22:02:24.399Z"
   },
   {
    "duration": 770,
    "start_time": "2024-07-06T22:02:25.728Z"
   },
   {
    "duration": 690,
    "start_time": "2024-07-06T22:03:00.451Z"
   },
   {
    "duration": 1326,
    "start_time": "2024-07-06T22:03:30.458Z"
   },
   {
    "duration": 789,
    "start_time": "2024-07-06T22:03:31.788Z"
   },
   {
    "duration": 527,
    "start_time": "2024-07-06T22:09:12.425Z"
   },
   {
    "duration": 125,
    "start_time": "2024-07-06T22:14:35.572Z"
   },
   {
    "duration": 3,
    "start_time": "2024-07-06T23:18:42.424Z"
   },
   {
    "duration": 3,
    "start_time": "2024-07-06T23:18:57.469Z"
   },
   {
    "duration": 3,
    "start_time": "2024-07-06T23:19:09.366Z"
   },
   {
    "duration": 63,
    "start_time": "2024-07-06T23:19:29.290Z"
   },
   {
    "duration": 69,
    "start_time": "2024-07-06T23:19:43.804Z"
   },
   {
    "duration": 1317,
    "start_time": "2024-07-06T23:19:52.013Z"
   },
   {
    "duration": 681,
    "start_time": "2024-07-06T23:19:53.335Z"
   },
   {
    "duration": 513,
    "start_time": "2024-07-06T23:19:54.020Z"
   },
   {
    "duration": 103,
    "start_time": "2024-07-06T23:19:54.536Z"
   },
   {
    "duration": 137,
    "start_time": "2024-07-06T23:19:54.643Z"
   },
   {
    "duration": 1264,
    "start_time": "2024-07-06T23:20:10.525Z"
   },
   {
    "duration": 663,
    "start_time": "2024-07-06T23:20:11.793Z"
   },
   {
    "duration": 519,
    "start_time": "2024-07-06T23:20:12.459Z"
   },
   {
    "duration": 105,
    "start_time": "2024-07-06T23:20:12.982Z"
   },
   {
    "duration": 162,
    "start_time": "2024-07-06T23:20:13.091Z"
   },
   {
    "duration": 88,
    "start_time": "2024-07-06T23:21:49.065Z"
   },
   {
    "duration": 78,
    "start_time": "2024-07-06T23:23:43.247Z"
   },
   {
    "duration": 131,
    "start_time": "2024-07-06T23:24:53.271Z"
   },
   {
    "duration": 61,
    "start_time": "2024-07-06T23:29:13.193Z"
   },
   {
    "duration": 1287,
    "start_time": "2024-07-06T23:29:19.786Z"
   },
   {
    "duration": 664,
    "start_time": "2024-07-06T23:29:21.076Z"
   },
   {
    "duration": 539,
    "start_time": "2024-07-06T23:29:21.743Z"
   },
   {
    "duration": 103,
    "start_time": "2024-07-06T23:29:22.285Z"
   },
   {
    "duration": 139,
    "start_time": "2024-07-06T23:29:22.391Z"
   },
   {
    "duration": 1278,
    "start_time": "2024-07-07T00:10:10.989Z"
   },
   {
    "duration": 655,
    "start_time": "2024-07-07T00:10:12.271Z"
   },
   {
    "duration": 588,
    "start_time": "2024-07-07T00:10:12.928Z"
   },
   {
    "duration": 106,
    "start_time": "2024-07-07T00:10:13.519Z"
   },
   {
    "duration": 153,
    "start_time": "2024-07-07T00:10:13.629Z"
   },
   {
    "duration": 547,
    "start_time": "2024-07-07T00:10:13.785Z"
   },
   {
    "duration": 2825,
    "start_time": "2024-07-07T00:10:14.336Z"
   },
   {
    "duration": 120,
    "start_time": "2024-07-07T00:10:17.164Z"
   },
   {
    "duration": 1244,
    "start_time": "2024-07-07T00:19:31.562Z"
   },
   {
    "duration": 670,
    "start_time": "2024-07-07T00:19:32.809Z"
   },
   {
    "duration": 550,
    "start_time": "2024-07-07T00:19:33.482Z"
   },
   {
    "duration": 104,
    "start_time": "2024-07-07T00:19:34.036Z"
   },
   {
    "duration": 154,
    "start_time": "2024-07-07T00:19:34.143Z"
   },
   {
    "duration": 531,
    "start_time": "2024-07-07T00:19:34.300Z"
   },
   {
    "duration": 2800,
    "start_time": "2024-07-07T00:19:34.833Z"
   },
   {
    "duration": 119,
    "start_time": "2024-07-07T00:19:37.636Z"
   },
   {
    "duration": 192,
    "start_time": "2024-07-07T00:31:08.623Z"
   },
   {
    "duration": 90,
    "start_time": "2024-07-07T00:40:51.220Z"
   },
   {
    "duration": 648,
    "start_time": "2024-07-07T00:46:08.866Z"
   },
   {
    "duration": 1309,
    "start_time": "2024-07-07T00:47:55.688Z"
   },
   {
    "duration": 654,
    "start_time": "2024-07-07T00:47:57.000Z"
   },
   {
    "duration": 540,
    "start_time": "2024-07-07T00:47:57.657Z"
   },
   {
    "duration": 113,
    "start_time": "2024-07-07T00:47:58.202Z"
   },
   {
    "duration": 142,
    "start_time": "2024-07-07T00:47:58.318Z"
   },
   {
    "duration": 985,
    "start_time": "2024-07-07T00:47:58.464Z"
   },
   {
    "duration": 3056,
    "start_time": "2024-07-07T00:47:59.453Z"
   },
   {
    "duration": 225,
    "start_time": "2024-07-07T00:48:02.512Z"
   },
   {
    "duration": 330,
    "start_time": "2024-07-07T00:56:15.890Z"
   },
   {
    "duration": 4,
    "start_time": "2024-07-07T00:56:37.680Z"
   },
   {
    "duration": 1287,
    "start_time": "2024-07-07T00:56:51.361Z"
   },
   {
    "duration": 772,
    "start_time": "2024-07-07T00:56:52.652Z"
   },
   {
    "duration": 515,
    "start_time": "2024-07-07T00:56:53.428Z"
   },
   {
    "duration": 105,
    "start_time": "2024-07-07T00:56:53.947Z"
   },
   {
    "duration": 156,
    "start_time": "2024-07-07T00:56:54.056Z"
   },
   {
    "duration": 527,
    "start_time": "2024-07-07T00:56:54.215Z"
   },
   {
    "duration": 2788,
    "start_time": "2024-07-07T00:56:54.745Z"
   },
   {
    "duration": 197,
    "start_time": "2024-07-07T00:56:57.536Z"
   },
   {
    "duration": 1229,
    "start_time": "2024-07-07T00:57:46.173Z"
   },
   {
    "duration": 661,
    "start_time": "2024-07-07T00:57:47.407Z"
   },
   {
    "duration": 518,
    "start_time": "2024-07-07T00:57:48.071Z"
   },
   {
    "duration": 98,
    "start_time": "2024-07-07T00:57:48.592Z"
   },
   {
    "duration": 170,
    "start_time": "2024-07-07T00:57:48.694Z"
   },
   {
    "duration": 534,
    "start_time": "2024-07-07T00:57:48.867Z"
   },
   {
    "duration": 3489,
    "start_time": "2024-07-07T00:57:49.404Z"
   },
   {
    "duration": 212,
    "start_time": "2024-07-07T00:57:52.896Z"
   },
   {
    "duration": 1932,
    "start_time": "2024-07-07T01:02:25.102Z"
   },
   {
    "duration": 737,
    "start_time": "2024-07-07T01:02:27.038Z"
   },
   {
    "duration": 505,
    "start_time": "2024-07-07T01:02:27.778Z"
   },
   {
    "duration": 112,
    "start_time": "2024-07-07T01:02:28.286Z"
   },
   {
    "duration": 148,
    "start_time": "2024-07-07T01:02:28.411Z"
   },
   {
    "duration": 500,
    "start_time": "2024-07-07T01:02:28.562Z"
   },
   {
    "duration": 2824,
    "start_time": "2024-07-07T01:02:29.065Z"
   },
   {
    "duration": 207,
    "start_time": "2024-07-07T01:02:31.892Z"
   },
   {
    "duration": 1325,
    "start_time": "2024-07-07T01:17:53.349Z"
   },
   {
    "duration": 720,
    "start_time": "2024-07-07T01:17:54.677Z"
   },
   {
    "duration": 512,
    "start_time": "2024-07-07T01:17:55.400Z"
   },
   {
    "duration": 116,
    "start_time": "2024-07-07T01:17:55.916Z"
   },
   {
    "duration": 152,
    "start_time": "2024-07-07T01:17:56.035Z"
   },
   {
    "duration": 513,
    "start_time": "2024-07-07T01:17:56.189Z"
   },
   {
    "duration": 2808,
    "start_time": "2024-07-07T01:17:56.705Z"
   },
   {
    "duration": 214,
    "start_time": "2024-07-07T01:17:59.516Z"
   },
   {
    "duration": 5907,
    "start_time": "2024-07-07T19:50:46.642Z"
   },
   {
    "duration": 887,
    "start_time": "2024-07-07T19:50:52.553Z"
   },
   {
    "duration": 591,
    "start_time": "2024-07-07T19:50:53.444Z"
   },
   {
    "duration": 128,
    "start_time": "2024-07-07T19:50:54.037Z"
   },
   {
    "duration": 170,
    "start_time": "2024-07-07T19:50:54.172Z"
   },
   {
    "duration": 603,
    "start_time": "2024-07-07T19:50:54.345Z"
   },
   {
    "duration": 3089,
    "start_time": "2024-07-07T19:50:54.952Z"
   },
   {
    "duration": 241,
    "start_time": "2024-07-07T19:50:58.045Z"
   },
   {
    "duration": 1276,
    "start_time": "2024-07-07T20:12:50.540Z"
   },
   {
    "duration": 671,
    "start_time": "2024-07-07T20:12:51.819Z"
   },
   {
    "duration": 1083,
    "start_time": "2024-07-07T20:12:52.501Z"
   },
   {
    "duration": 0,
    "start_time": "2024-07-07T20:12:53.588Z"
   },
   {
    "duration": 0,
    "start_time": "2024-07-07T20:12:53.590Z"
   },
   {
    "duration": 0,
    "start_time": "2024-07-07T20:12:53.593Z"
   },
   {
    "duration": 0,
    "start_time": "2024-07-07T20:12:53.602Z"
   },
   {
    "duration": 0,
    "start_time": "2024-07-07T20:12:53.604Z"
   },
   {
    "duration": 0,
    "start_time": "2024-07-07T20:12:53.607Z"
   },
   {
    "duration": 0,
    "start_time": "2024-07-07T20:12:53.610Z"
   },
   {
    "duration": 0,
    "start_time": "2024-07-07T20:12:53.612Z"
   },
   {
    "duration": 0,
    "start_time": "2024-07-07T20:12:53.614Z"
   },
   {
    "duration": 0,
    "start_time": "2024-07-07T20:12:53.616Z"
   },
   {
    "duration": 0,
    "start_time": "2024-07-07T20:12:53.618Z"
   },
   {
    "duration": 678,
    "start_time": "2024-07-07T20:14:09.209Z"
   },
   {
    "duration": 1377,
    "start_time": "2024-07-07T20:14:15.501Z"
   },
   {
    "duration": 690,
    "start_time": "2024-07-07T20:14:16.882Z"
   },
   {
    "duration": 2152,
    "start_time": "2024-07-07T20:14:17.576Z"
   },
   {
    "duration": 0,
    "start_time": "2024-07-07T20:14:19.732Z"
   },
   {
    "duration": 0,
    "start_time": "2024-07-07T20:14:19.735Z"
   },
   {
    "duration": 0,
    "start_time": "2024-07-07T20:14:19.738Z"
   },
   {
    "duration": 1,
    "start_time": "2024-07-07T20:14:19.740Z"
   },
   {
    "duration": 0,
    "start_time": "2024-07-07T20:14:19.742Z"
   },
   {
    "duration": 0,
    "start_time": "2024-07-07T20:14:19.802Z"
   },
   {
    "duration": 0,
    "start_time": "2024-07-07T20:14:19.804Z"
   },
   {
    "duration": 0,
    "start_time": "2024-07-07T20:14:19.807Z"
   },
   {
    "duration": 0,
    "start_time": "2024-07-07T20:14:19.809Z"
   },
   {
    "duration": 0,
    "start_time": "2024-07-07T20:14:19.813Z"
   },
   {
    "duration": 0,
    "start_time": "2024-07-07T20:14:19.816Z"
   },
   {
    "duration": 668,
    "start_time": "2024-07-07T20:15:28.599Z"
   },
   {
    "duration": 6,
    "start_time": "2024-07-07T20:16:41.070Z"
   },
   {
    "duration": 740,
    "start_time": "2024-07-07T20:16:53.133Z"
   },
   {
    "duration": 1326,
    "start_time": "2024-07-07T20:17:11.027Z"
   },
   {
    "duration": 719,
    "start_time": "2024-07-07T20:17:12.357Z"
   },
   {
    "duration": 668,
    "start_time": "2024-07-07T20:17:13.079Z"
   },
   {
    "duration": 200,
    "start_time": "2024-07-07T20:17:13.803Z"
   },
   {
    "duration": 339,
    "start_time": "2024-07-07T20:17:14.008Z"
   },
   {
    "duration": 759,
    "start_time": "2024-07-07T20:17:14.401Z"
   },
   {
    "duration": 2843,
    "start_time": "2024-07-07T20:17:15.163Z"
   },
   {
    "duration": 229,
    "start_time": "2024-07-07T20:17:18.010Z"
   },
   {
    "duration": 1310,
    "start_time": "2024-07-07T20:17:40.259Z"
   },
   {
    "duration": 687,
    "start_time": "2024-07-07T20:17:41.572Z"
   },
   {
    "duration": 611,
    "start_time": "2024-07-07T20:17:42.262Z"
   },
   {
    "duration": 100,
    "start_time": "2024-07-07T20:17:42.875Z"
   },
   {
    "duration": 158,
    "start_time": "2024-07-07T20:17:42.981Z"
   },
   {
    "duration": 540,
    "start_time": "2024-07-07T20:17:43.142Z"
   },
   {
    "duration": 2826,
    "start_time": "2024-07-07T20:17:43.688Z"
   },
   {
    "duration": 215,
    "start_time": "2024-07-07T20:17:46.518Z"
   },
   {
    "duration": 331,
    "start_time": "2024-07-07T20:53:02.527Z"
   },
   {
    "duration": 1387,
    "start_time": "2024-07-07T20:53:10.701Z"
   },
   {
    "duration": 826,
    "start_time": "2024-07-07T20:53:12.093Z"
   },
   {
    "duration": 543,
    "start_time": "2024-07-07T20:53:12.921Z"
   },
   {
    "duration": 98,
    "start_time": "2024-07-07T20:53:13.468Z"
   },
   {
    "duration": 162,
    "start_time": "2024-07-07T20:53:13.570Z"
   },
   {
    "duration": 606,
    "start_time": "2024-07-07T20:53:13.736Z"
   },
   {
    "duration": 2914,
    "start_time": "2024-07-07T20:53:14.345Z"
   },
   {
    "duration": 222,
    "start_time": "2024-07-07T20:53:17.262Z"
   },
   {
    "duration": 1325,
    "start_time": "2024-07-07T20:56:01.576Z"
   },
   {
    "duration": 853,
    "start_time": "2024-07-07T20:56:02.906Z"
   },
   {
    "duration": 586,
    "start_time": "2024-07-07T20:56:03.762Z"
   },
   {
    "duration": 100,
    "start_time": "2024-07-07T20:56:04.353Z"
   },
   {
    "duration": 169,
    "start_time": "2024-07-07T20:56:04.456Z"
   },
   {
    "duration": 555,
    "start_time": "2024-07-07T20:56:04.629Z"
   },
   {
    "duration": 2858,
    "start_time": "2024-07-07T20:56:05.188Z"
   },
   {
    "duration": 229,
    "start_time": "2024-07-07T20:56:08.049Z"
   },
   {
    "duration": 479,
    "start_time": "2024-07-07T20:58:04.650Z"
   },
   {
    "duration": 1764,
    "start_time": "2024-07-07T22:19:30.862Z"
   },
   {
    "duration": 2246,
    "start_time": "2024-07-07T22:19:47.989Z"
   },
   {
    "duration": 1241,
    "start_time": "2024-07-07T22:19:50.242Z"
   },
   {
    "duration": 1727,
    "start_time": "2024-07-07T22:22:05.557Z"
   },
   {
    "duration": 2304,
    "start_time": "2024-07-07T22:22:07.296Z"
   },
   {
    "duration": 709,
    "start_time": "2024-07-07T22:22:09.612Z"
   },
   {
    "duration": 110,
    "start_time": "2024-07-07T22:22:10.326Z"
   },
   {
    "duration": 169,
    "start_time": "2024-07-07T22:22:10.443Z"
   },
   {
    "duration": 705,
    "start_time": "2024-07-07T22:22:10.616Z"
   },
   {
    "duration": 3517,
    "start_time": "2024-07-07T22:22:11.325Z"
   },
   {
    "duration": 312,
    "start_time": "2024-07-07T22:22:14.845Z"
   },
   {
    "duration": 1632,
    "start_time": "2024-07-07T22:22:15.161Z"
   },
   {
    "duration": 652,
    "start_time": "2024-07-07T22:25:32.951Z"
   },
   {
    "duration": 2509,
    "start_time": "2024-07-07T22:26:25.200Z"
   },
   {
    "duration": 1260,
    "start_time": "2024-07-07T22:26:27.714Z"
   },
   {
    "duration": 794,
    "start_time": "2024-07-07T22:26:28.978Z"
   },
   {
    "duration": 160,
    "start_time": "2024-07-07T22:26:29.777Z"
   },
   {
    "duration": 262,
    "start_time": "2024-07-07T22:26:29.941Z"
   },
   {
    "duration": 797,
    "start_time": "2024-07-07T22:26:30.207Z"
   },
   {
    "duration": 3280,
    "start_time": "2024-07-07T22:26:31.014Z"
   },
   {
    "duration": 321,
    "start_time": "2024-07-07T22:26:34.298Z"
   },
   {
    "duration": 541,
    "start_time": "2024-07-07T22:26:34.623Z"
   },
   {
    "duration": 1736,
    "start_time": "2024-07-07T22:26:35.171Z"
   },
   {
    "duration": 0,
    "start_time": "2024-07-07T22:26:36.919Z"
   },
   {
    "duration": 0,
    "start_time": "2024-07-07T22:26:36.927Z"
   },
   {
    "duration": 0,
    "start_time": "2024-07-07T22:26:36.930Z"
   },
   {
    "duration": 0,
    "start_time": "2024-07-07T22:26:36.932Z"
   },
   {
    "duration": 532,
    "start_time": "2024-07-07T22:27:07.081Z"
   },
   {
    "duration": 543,
    "start_time": "2024-07-07T22:27:17.424Z"
   },
   {
    "duration": 664,
    "start_time": "2024-07-07T22:28:04.895Z"
   },
   {
    "duration": 20,
    "start_time": "2024-07-07T22:28:17.357Z"
   },
   {
    "duration": 24,
    "start_time": "2024-07-07T22:28:31.028Z"
   },
   {
    "duration": 1038,
    "start_time": "2024-07-07T22:28:39.483Z"
   },
   {
    "duration": 961,
    "start_time": "2024-07-07T22:28:48.956Z"
   },
   {
    "duration": 20,
    "start_time": "2024-07-07T22:44:30.967Z"
   },
   {
    "duration": 27,
    "start_time": "2024-07-07T22:45:01.023Z"
   },
   {
    "duration": 345,
    "start_time": "2024-07-07T22:46:26.927Z"
   },
   {
    "duration": 730,
    "start_time": "2024-07-07T22:47:15.820Z"
   },
   {
    "duration": 637,
    "start_time": "2024-07-07T22:54:04.407Z"
   },
   {
    "duration": 165,
    "start_time": "2024-07-07T22:54:59.867Z"
   },
   {
    "duration": 2440,
    "start_time": "2024-07-07T22:56:14.369Z"
   },
   {
    "duration": 337,
    "start_time": "2024-07-07T22:57:36.567Z"
   },
   {
    "duration": 6,
    "start_time": "2024-07-07T22:57:48.195Z"
   },
   {
    "duration": 6,
    "start_time": "2024-07-07T22:58:11.783Z"
   },
   {
    "duration": 8,
    "start_time": "2024-07-07T22:58:25.674Z"
   },
   {
    "duration": 78,
    "start_time": "2024-07-07T22:58:58.667Z"
   },
   {
    "duration": 2417,
    "start_time": "2024-07-07T23:00:42.867Z"
   },
   {
    "duration": 403,
    "start_time": "2024-07-07T23:05:59.729Z"
   },
   {
    "duration": 7,
    "start_time": "2024-07-07T23:06:12.759Z"
   },
   {
    "duration": 1947,
    "start_time": "2024-07-07T23:09:23.740Z"
   },
   {
    "duration": 742,
    "start_time": "2024-07-07T23:09:25.691Z"
   },
   {
    "duration": 1200,
    "start_time": "2024-07-07T23:09:26.437Z"
   },
   {
    "duration": 563,
    "start_time": "2024-07-07T23:09:27.643Z"
   },
   {
    "duration": 106,
    "start_time": "2024-07-07T23:09:28.211Z"
   },
   {
    "duration": 153,
    "start_time": "2024-07-07T23:09:28.321Z"
   },
   {
    "duration": 556,
    "start_time": "2024-07-07T23:09:28.477Z"
   },
   {
    "duration": 2858,
    "start_time": "2024-07-07T23:09:29.036Z"
   },
   {
    "duration": 209,
    "start_time": "2024-07-07T23:09:31.897Z"
   },
   {
    "duration": 341,
    "start_time": "2024-07-07T23:09:32.113Z"
   },
   {
    "duration": 6,
    "start_time": "2024-07-07T23:09:32.457Z"
   },
   {
    "duration": 7,
    "start_time": "2024-07-07T23:09:32.466Z"
   },
   {
    "duration": 2494,
    "start_time": "2024-07-07T23:09:32.476Z"
   },
   {
    "duration": 304,
    "start_time": "2024-07-07T23:09:34.973Z"
   },
   {
    "duration": 425,
    "start_time": "2024-07-07T23:09:35.280Z"
   },
   {
    "duration": 17,
    "start_time": "2024-07-07T23:09:35.710Z"
   },
   {
    "duration": 723,
    "start_time": "2024-07-07T23:09:35.730Z"
   },
   {
    "duration": 24,
    "start_time": "2024-07-07T23:09:36.456Z"
   },
   {
    "duration": 341,
    "start_time": "2024-07-07T23:09:36.483Z"
   },
   {
    "duration": 584,
    "start_time": "2024-07-07T23:09:36.828Z"
   },
   {
    "duration": 384,
    "start_time": "2024-07-07T23:12:23.087Z"
   },
   {
    "duration": 34,
    "start_time": "2024-07-07T23:13:40.700Z"
   },
   {
    "duration": 1973,
    "start_time": "2024-07-07T23:14:05.564Z"
   },
   {
    "duration": 885,
    "start_time": "2024-07-07T23:14:07.541Z"
   },
   {
    "duration": 528,
    "start_time": "2024-07-07T23:14:08.430Z"
   },
   {
    "duration": 100,
    "start_time": "2024-07-07T23:14:08.963Z"
   },
   {
    "duration": 159,
    "start_time": "2024-07-07T23:14:09.067Z"
   },
   {
    "duration": 588,
    "start_time": "2024-07-07T23:14:09.228Z"
   },
   {
    "duration": 2816,
    "start_time": "2024-07-07T23:14:09.819Z"
   },
   {
    "duration": 144,
    "start_time": "2024-07-07T23:14:12.637Z"
   },
   {
    "duration": 307,
    "start_time": "2024-07-07T23:14:12.784Z"
   },
   {
    "duration": 4,
    "start_time": "2024-07-07T23:14:13.101Z"
   },
   {
    "duration": 7,
    "start_time": "2024-07-07T23:14:13.109Z"
   },
   {
    "duration": 2464,
    "start_time": "2024-07-07T23:14:13.119Z"
   },
   {
    "duration": 307,
    "start_time": "2024-07-07T23:14:15.586Z"
   },
   {
    "duration": 486,
    "start_time": "2024-07-07T23:14:15.901Z"
   },
   {
    "duration": 27,
    "start_time": "2024-07-07T23:14:16.390Z"
   },
   {
    "duration": 729,
    "start_time": "2024-07-07T23:14:16.421Z"
   },
   {
    "duration": 29,
    "start_time": "2024-07-07T23:14:17.156Z"
   },
   {
    "duration": 316,
    "start_time": "2024-07-07T23:14:17.204Z"
   },
   {
    "duration": 583,
    "start_time": "2024-07-07T23:14:17.525Z"
   },
   {
    "duration": 2288,
    "start_time": "2024-07-07T23:14:49.088Z"
   },
   {
    "duration": 298,
    "start_time": "2024-07-07T23:15:34.380Z"
   },
   {
    "duration": 297,
    "start_time": "2024-07-07T23:16:57.164Z"
   },
   {
    "duration": 1972,
    "start_time": "2024-07-07T23:17:07.815Z"
   },
   {
    "duration": 1146,
    "start_time": "2024-07-07T23:17:09.790Z"
   },
   {
    "duration": 839,
    "start_time": "2024-07-07T23:17:10.938Z"
   },
   {
    "duration": 99,
    "start_time": "2024-07-07T23:17:11.780Z"
   },
   {
    "duration": 145,
    "start_time": "2024-07-07T23:17:11.901Z"
   },
   {
    "duration": 527,
    "start_time": "2024-07-07T23:17:12.049Z"
   },
   {
    "duration": 2811,
    "start_time": "2024-07-07T23:17:12.579Z"
   },
   {
    "duration": 130,
    "start_time": "2024-07-07T23:17:15.393Z"
   },
   {
    "duration": 312,
    "start_time": "2024-07-07T23:17:15.526Z"
   },
   {
    "duration": 4,
    "start_time": "2024-07-07T23:17:15.841Z"
   },
   {
    "duration": 2529,
    "start_time": "2024-07-07T23:17:15.848Z"
   },
   {
    "duration": 444,
    "start_time": "2024-07-07T23:17:18.380Z"
   },
   {
    "duration": 17,
    "start_time": "2024-07-07T23:17:18.827Z"
   },
   {
    "duration": 726,
    "start_time": "2024-07-07T23:17:18.849Z"
   },
   {
    "duration": 39,
    "start_time": "2024-07-07T23:17:19.579Z"
   },
   {
    "duration": 325,
    "start_time": "2024-07-07T23:17:19.621Z"
   },
   {
    "duration": 582,
    "start_time": "2024-07-07T23:17:19.949Z"
   },
   {
    "duration": 13,
    "start_time": "2024-07-07T23:18:13.609Z"
   },
   {
    "duration": 18,
    "start_time": "2024-07-07T23:18:23.170Z"
   },
   {
    "duration": 703,
    "start_time": "2024-07-07T23:18:42.968Z"
   },
   {
    "duration": 637,
    "start_time": "2024-07-07T23:19:00.565Z"
   },
   {
    "duration": 13,
    "start_time": "2024-07-07T23:20:05.833Z"
   },
   {
    "duration": 18,
    "start_time": "2024-07-07T23:20:16.721Z"
   },
   {
    "duration": 709,
    "start_time": "2024-07-07T23:20:34.759Z"
   },
   {
    "duration": 628,
    "start_time": "2024-07-07T23:20:52.145Z"
   },
   {
    "duration": 304,
    "start_time": "2024-07-07T23:26:25.061Z"
   },
   {
    "duration": 309,
    "start_time": "2024-07-07T23:27:16.925Z"
   },
   {
    "duration": 363,
    "start_time": "2024-07-07T23:27:24.781Z"
   },
   {
    "duration": 320,
    "start_time": "2024-07-07T23:27:34.581Z"
   },
   {
    "duration": 2340,
    "start_time": "2024-07-07T23:28:19.141Z"
   },
   {
    "duration": 540,
    "start_time": "2024-07-07T23:29:18.177Z"
   },
   {
    "duration": 602,
    "start_time": "2024-07-07T23:30:29.357Z"
   },
   {
    "duration": 1273,
    "start_time": "2024-07-07T23:33:20.010Z"
   },
   {
    "duration": 726,
    "start_time": "2024-07-07T23:33:21.287Z"
   },
   {
    "duration": 517,
    "start_time": "2024-07-07T23:33:22.016Z"
   },
   {
    "duration": 103,
    "start_time": "2024-07-07T23:33:22.538Z"
   },
   {
    "duration": 170,
    "start_time": "2024-07-07T23:33:22.644Z"
   },
   {
    "duration": 538,
    "start_time": "2024-07-07T23:33:22.817Z"
   },
   {
    "duration": 2883,
    "start_time": "2024-07-07T23:33:23.358Z"
   },
   {
    "duration": 146,
    "start_time": "2024-07-07T23:33:26.244Z"
   },
   {
    "duration": 316,
    "start_time": "2024-07-07T23:33:26.394Z"
   },
   {
    "duration": 2464,
    "start_time": "2024-07-07T23:33:26.715Z"
   },
   {
    "duration": 462,
    "start_time": "2024-07-07T23:33:29.183Z"
   },
   {
    "duration": 17,
    "start_time": "2024-07-07T23:33:29.648Z"
   },
   {
    "duration": 720,
    "start_time": "2024-07-07T23:33:29.668Z"
   },
   {
    "duration": 640,
    "start_time": "2024-07-07T23:33:30.391Z"
   },
   {
    "duration": 424,
    "start_time": "2024-07-07T23:33:31.034Z"
   },
   {
    "duration": 0,
    "start_time": "2024-07-07T23:33:31.461Z"
   }
  ],
  "kernelspec": {
   "display_name": "Python 3 (ipykernel)",
   "language": "python",
   "name": "python3"
  },
  "language_info": {
   "codemirror_mode": {
    "name": "ipython",
    "version": 3
   },
   "file_extension": ".py",
   "mimetype": "text/x-python",
   "name": "python",
   "nbconvert_exporter": "python",
   "pygments_lexer": "ipython3",
   "version": "3.12.4"
  },
  "toc": {
   "base_numbering": 1,
   "nav_menu": {},
   "number_sections": true,
   "sideBar": true,
   "skip_h1_title": true,
   "title_cell": "Table of Contents",
   "title_sidebar": "Contents",
   "toc_cell": false,
   "toc_position": {
    "height": "calc(100% - 180px)",
    "left": "10px",
    "top": "150px",
    "width": "457.708px"
   },
   "toc_section_display": true,
   "toc_window_display": true
  }
 },
 "nbformat": 4,
 "nbformat_minor": 2
}
